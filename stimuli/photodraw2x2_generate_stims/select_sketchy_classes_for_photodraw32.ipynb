{
 "cells": [
  {
   "cell_type": "markdown",
   "metadata": {},
   "source": [
    "### package imports and set up paths\n"
   ]
  },
  {
   "cell_type": "code",
   "execution_count": null,
   "metadata": {
    "scrolled": true
   },
   "outputs": [],
   "source": [
    "import os, sys\n",
    "import shutil\n",
    "import re\n",
    "from glob import glob\n",
    "\n",
    "import random\n",
    "import pymongo as pm\n",
    "import numpy as np\n",
    "import scipy.stats as stats\n",
    "import pandas as pd\n",
    "import json\n",
    "import re\n",
    "from io import BytesIO\n",
    "from PIL import Image\n",
    "import base64\n",
    "import PIL\n",
    "from collections import Counter\n",
    "from skimage import io\n",
    "import requests\n",
    "import socket\n",
    "from scipy.spatial import distance as dist\n",
    "from scipy.spatial.distance import pdist\n",
    "from sklearn import preprocessing\n",
    "from scipy.spatial.distance import squareform\n",
    "from scipy.stats import f\n",
    "\n",
    "import matplotlib\n",
    "from matplotlib import pylab, mlab, pyplot\n",
    "%matplotlib inline\n",
    "from IPython.core.pylabtools import figsize, getfigs\n",
    "plt = pyplot\n",
    "import seaborn as sns\n",
    "sns.set_context('talk')\n",
    "sns.set_style('white')\n",
    "\n",
    "from IPython.display import clear_output\n",
    "import importlib\n",
    "\n",
    "import warnings\n",
    "warnings.filterwarnings(\"ignore\", category=DeprecationWarning)\n",
    "warnings.filterwarnings(\"ignore\", message=\"numpy.dtype size changed\")\n",
    "warnings.filterwarnings(\"ignore\", message=\"numpy.ufunc size changed\")"
   ]
  },
  {
   "cell_type": "code",
   "execution_count": null,
   "metadata": {},
   "outputs": [],
   "source": [
    "def make_dir_if_not_exists(dir_name):   \n",
    "    if not os.path.exists(dir_name):\n",
    "        os.makedirs(dir_name)\n",
    "    return dir_name\n",
    "def list_files(path, ext='png'):\n",
    "    result = [y for x in os.walk(path) for y in glob(os.path.join(x[0], '*.%s' % ext))]\n",
    "    return result"
   ]
  },
  {
   "cell_type": "markdown",
   "metadata": {},
   "source": [
    "### load in class-level annotations"
   ]
  },
  {
   "cell_type": "code",
   "execution_count": null,
   "metadata": {},
   "outputs": [],
   "source": [
    "## load in and inspect/\n",
    "X = pd.read_csv('sketchy_class_annotations.csv')\n",
    "X.head()"
   ]
  },
  {
   "cell_type": "code",
   "execution_count": null,
   "metadata": {},
   "outputs": [],
   "source": [
    "## assign a new column that only contains the classes that seem pretty diverse\n",
    "X = X.assign(Diverse = X.apply(lambda x: True if x['Comments'][:3]=='yes' else False, axis=1))"
   ]
  },
  {
   "cell_type": "code",
   "execution_count": null,
   "metadata": {},
   "outputs": [],
   "source": [
    "## how many diverse classes are there\n",
    "num_diverse = X['Diverse'].sum()\n",
    "print('There are {} diverse classes out of a total of {} classes.'.format(num_diverse, X.shape[0]))"
   ]
  },
  {
   "cell_type": "code",
   "execution_count": null,
   "metadata": {},
   "outputs": [],
   "source": [
    "## subset to only these diverse classes\n",
    "Y = X[X['Diverse']==True]"
   ]
  },
  {
   "cell_type": "code",
   "execution_count": null,
   "metadata": {},
   "outputs": [],
   "source": [
    "print(Y['Basic-level'].values)"
   ]
  },
  {
   "cell_type": "markdown",
   "metadata": {},
   "source": [
    "##### informal considerations for photodraw32 compared to photodraw1\n",
    "- Would be nice for all participants to produce both photo-cued and text-cued sketches from each class\n",
    "- If not that, would be nice for participants to produce a sketch of every class, even if not from same cue type\n",
    "- Would be nice to have a larger set of classes overall\n",
    "- Would be nice to have a larger set of images in each class\n",
    "- Would be nice to to have roughly the same number of images in each class as there are classes in total, at least in similar ballpark so the set of alternatives for photo-level classification is similar in size to that of class-level classification"
   ]
  },
  {
   "cell_type": "code",
   "execution_count": null,
   "metadata": {},
   "outputs": [],
   "source": [
    "Y.groupby(['Natural','Familiar']).count()"
   ]
  },
  {
   "cell_type": "code",
   "execution_count": null,
   "metadata": {},
   "outputs": [],
   "source": [
    "Y.groupby(['Natural','Familiar','Large']).count()"
   ]
  },
  {
   "cell_type": "markdown",
   "metadata": {},
   "source": [
    "- (Manually) identify a set of 8 classes from each (Natural,Familiar) combination, yielding 32 classes in total. (done)\n",
    "- Identify at least a set of 32 photos from each of these 32 classes and copy 32 images to a new file structure that will be photodraw32 (done)"
   ]
  },
  {
   "cell_type": "code",
   "execution_count": null,
   "metadata": {},
   "outputs": [],
   "source": [
    "print(Y[(Y['Natural']==False) & (Y['Familiar']==False)][\"Basic-level\"].values)"
   ]
  },
  {
   "cell_type": "code",
   "execution_count": null,
   "metadata": {},
   "outputs": [],
   "source": [
    "print(Y[(Y['Natural']==False) & (Y['Familiar']==True)][\"Basic-level\"].values)"
   ]
  },
  {
   "cell_type": "code",
   "execution_count": null,
   "metadata": {},
   "outputs": [],
   "source": [
    "print(Y[(Y['Natural']==True) & (Y['Familiar']==False)][\"Basic-level\"].values)"
   ]
  },
  {
   "cell_type": "code",
   "execution_count": null,
   "metadata": {},
   "outputs": [],
   "source": [
    "print(Y[(Y['Natural']==True) & (Y['Familiar']==True)][\"Basic-level\"].values)"
   ]
  },
  {
   "cell_type": "markdown",
   "metadata": {},
   "source": [
    "#### Before reducing:\n",
    "\n",
    "| Natural      | Familiar |   Categories |\n",
    "| ----------- | ----------- | ----------- |\n",
    "| True      | True  | beetle, butterfly, cat, dog, fish, flower, mushroom, rabbit, raccoon, seal, spider, squirrel, tree   |\n",
    "| True   | False | ape, bat, bear, camel, elephant, hermit_crab, jellyfish, kangaroo, lion, ray, scorpion, sheep, snake, starfish |\n",
    "| False | True | airplane, bread, car_(sedan), church, cup, fan, hat, piano, pickup_truck, shoe, skyscraper. teapot, window |\n",
    "| False   |  False |  axe, blimp, castle, hotdog, jack-o-lantern, motorcycle, saw, windmill |"
   ]
  },
  {
   "cell_type": "markdown",
   "metadata": {},
   "source": [
    "#### After reducing:\n",
    "\n",
    "| Natural      | Familiar |   Categories |\n",
    "| ----------- | ----------- | ----------- |\n",
    "| True      | True  | butterfly, cat, fish, flower, mushroom, raccoon, squirrel, tree |\n",
    "| True   | False | ape, elephant, jellyfish, kangaroo, lion, ray, scorpion, snake |\n",
    "| False | True | airplane, bread, car_(sedan), cup, hat, piano, skyscraper, window |\n",
    "| False   |  False |  axe, blimp, castle, hotdog, jack-o-lantern, motorcycle, saw, windmill |"
   ]
  },
  {
   "cell_type": "code",
   "execution_count": null,
   "metadata": {},
   "outputs": [],
   "source": [
    "group1 = ['butterfly', 'cat', 'fish', 'flower', 'mushroom', 'raccoon', 'squirrel', 'tree']\n",
    "group2 = ['ape', 'elephant', 'jellyfish', 'kangaroo', 'lion', 'ray', 'scorpion', 'snake']\n",
    "group3 = ['airplane', 'bread', 'car_(sedan)', 'cup', 'hat', 'piano', 'skyscraper', 'window']\n",
    "group4 = ['axe', 'blimp', 'castle', 'hotdog', 'jack-o-lantern', 'motorcycle', 'saw', 'windmill']"
   ]
  },
  {
   "cell_type": "code",
   "execution_count": null,
   "metadata": {},
   "outputs": [],
   "source": [
    "#print(\"True\\n\" * 32 * 8 * 2, end=\"\")\n",
    "#print(\"False\\n\" * 32 * 8 * 2, end=\"\")"
   ]
  },
  {
   "cell_type": "code",
   "execution_count": null,
   "metadata": {},
   "outputs": [],
   "source": [
    "#print(\"True\\n\" * 32 * 8 * 1, end=\"\")\n",
    "#print(\"False\\n\" * 32 * 8 * 1, end=\"\")\n",
    "#print(\"True\\n\" * 32 * 8 * 1, end=\"\")\n",
    "#print(\"False\\n\" * 32 * 8 * 1, end=\"\")"
   ]
  },
  {
   "cell_type": "code",
   "execution_count": null,
   "metadata": {},
   "outputs": [],
   "source": [
    "#for group in [group1, group2, group3, group4]:\n",
    "#    for category in group:\n",
    "#        print((category + '\\n') * 32, end = \"\")"
   ]
  },
  {
   "cell_type": "markdown",
   "metadata": {},
   "source": [
    "### Made directory with new 32x32 dataset in photodraw directory"
   ]
  },
  {
   "cell_type": "code",
   "execution_count": null,
   "metadata": {},
   "outputs": [],
   "source": [
    "df = pd.read_csv('sketchy_image_paths.csv')"
   ]
  },
  {
   "cell_type": "code",
   "execution_count": null,
   "metadata": {},
   "outputs": [],
   "source": [
    "stim_dir = os.path.abspath('..')\n",
    "photodraw_32_stims = os.path.join(stim_dir, 'photodraw32_stims')\n",
    "\n",
    "[make_dir_if_not_exists(x) for x in [stim_dir, photodraw_32_stims]]\n",
    "\n",
    "category_paths = [os.path.join(photodraw_32_stims, category) for category in df.Category.unique()]\n",
    "[make_dir_if_not_exists(x) for x in category_paths]"
   ]
  },
  {
   "cell_type": "code",
   "execution_count": null,
   "metadata": {},
   "outputs": [],
   "source": [
    "reallyRun = 0\n",
    "if reallyRun:\n",
    "    # copy files from source to destination (in photodraw repo)\n",
    "    for index, row in df.iterrows():\n",
    "        source = row.Path\n",
    "        destination = os.path.join(photodraw_32_stims, row.Category)\n",
    "        shutil.copy(source,destination)"
   ]
  },
  {
   "cell_type": "markdown",
   "metadata": {},
   "source": [
    "### Create metadata file for amazon s3 upload"
   ]
  },
  {
   "cell_type": "code",
   "execution_count": null,
   "metadata": {},
   "outputs": [],
   "source": [
    "# Get updated filenames in photodraw2_stims\n",
    "os.chdir('../') \n",
    "destinationFiles = list_files('photodraw32_stims', 'png') # change to png or jpg if not working\n",
    "destinationFiles = sorted(destinationFiles, key = lambda path: (path.split('\\\\')[-2], int(re.split(r'[_.\\\\]', path)[-2])))"
   ]
  },
  {
   "cell_type": "code",
   "execution_count": null,
   "metadata": {
    "scrolled": true
   },
   "outputs": [],
   "source": [
    "indices = pd.Series([str(i) if i >= 10 else '0' + str(i) for i in range(32)] * 32, dtype=str)\n",
    "photodraw32_metadata = pd.DataFrame(data = {'category': [i for i in sorted(df.Category.unique()) for j in range(32)],\n",
    "                                           'index': indices, \n",
    "                                           'sketchy_preprocessing_mode': 'tx_000100000000',\n",
    "                                           'sketchy_filepath': destinationFiles})\n",
    "photodraw32_metadata['sketchy_filename'] = photodraw32_metadata.apply(lambda row: os.path.split(row.sketchy_filepath)[1], axis=1)\n",
    "photodraw32_metadata['photodraw32_filename'] = photodraw32_metadata.apply(lambda row: row['category'] + '_' + row['index'] , axis=1)\n",
    "photodraw32_metadata['s3_filename'] = photodraw32_metadata.apply(lambda row: row['sketchy_filename'][:-4] + '_' + \n",
    "                          row['photodraw32_filename'] + row['sketchy_filename'][-4:], axis=1)\n",
    "photodraw32_metadata['s3_url'] = photodraw32_metadata.apply(lambda row: \"https://photodraw32.s3.amazonaws.com/\" + row['s3_filename'], axis = 1)"
   ]
  },
  {
   "cell_type": "code",
   "execution_count": null,
   "metadata": {},
   "outputs": [],
   "source": [
    "from PIL import Image\n",
    "\n",
    "convertToPNG = False\n",
    "if convertToPNG:\n",
    "    for filename in destinationFiles:\n",
    "        if filename.endswith(\".jpg\"):\n",
    "            im = Image.open(filename)\n",
    "            rgb_im = im.convert('RGB')\n",
    "            rgb_im.save(filename[:-4]+'.png')\n",
    "            os.remove(filename)\n",
    "            continue\n",
    "        else:\n",
    "            continue"
   ]
  },
  {
   "cell_type": "code",
   "execution_count": null,
   "metadata": {},
   "outputs": [],
   "source": [
    "# update metadata to reflect png \n",
    "for index, row in photodraw32_metadata.iterrows():\n",
    "    for columnname, columndata in row.iteritems():\n",
    "        if \".jpg\" in str(columndata):\n",
    "            photodraw32_metadata[columnname][index] = photodraw32_metadata[columnname][index][:-3] + \"png\"\n",
    "        else:\n",
    "            continue"
   ]
  },
  {
   "cell_type": "code",
   "execution_count": null,
   "metadata": {},
   "outputs": [],
   "source": [
    "batch_list = []\n",
    "for cat in photodraw32_metadata.category.unique():\n",
    "    temp_list = list(range(0,8))*4\n",
    "    random.shuffle(temp_list)\n",
    "    batch_list.append(temp_list)\n",
    "# turns the list of lists into just a single list\n",
    "batch_list = [item for sublist in batch_list for item in sublist]\n",
    "photodraw32_metadata['batch_num'] = batch_list"
   ]
  },
  {
   "cell_type": "code",
   "execution_count": null,
   "metadata": {},
   "outputs": [],
   "source": [
    "rand_category = np.random.choice(photodraw32_metadata.category.unique())\n",
    "photodraw32_metadata[photodraw32_metadata.category == rand_category]['batch_num'].value_counts()"
   ]
  },
  {
   "cell_type": "code",
   "execution_count": null,
   "metadata": {},
   "outputs": [],
   "source": [
    "photodraw32_metadata.sample()"
   ]
  },
  {
   "cell_type": "code",
   "execution_count": null,
   "metadata": {},
   "outputs": [],
   "source": [
    "dest_path = os.path.join(stim_dir, 'photodraw32_metadata.csv')\n",
    "photodraw32_metadata.to_csv(dest_path, index=False)"
   ]
  },
  {
   "cell_type": "markdown",
   "metadata": {},
   "source": [
    "### turn into list of dicts"
   ]
  },
  {
   "cell_type": "code",
   "execution_count": null,
   "metadata": {},
   "outputs": [],
   "source": [
    "import csv\n",
    "import pickle\n",
    "\n",
    "with open('F:\\photodraw\\stimuli\\photodraw32_metadata.csv') as f:\n",
    "    a = [{k: v for k, v in row.items()} for row in csv.DictReader(f, skipinitialspace=True)]\n",
    "print(a,  file=open('F:\\photodraw\\experiments\\photodraw_norming\\photodraw32_metadata.js', 'w'))"
   ]
  },
  {
   "cell_type": "code",
   "execution_count": null,
   "metadata": {},
   "outputs": [],
   "source": [
    "df = pd.read_csv('F:\\photodraw\\stimuli\\photodraw32_metadata.csv')"
   ]
  },
  {
   "cell_type": "code",
   "execution_count": null,
   "metadata": {
    "scrolled": true
   },
   "outputs": [],
   "source": [
    "# partition dataframe into 8 subsets with equal amount of images in each category\n",
    "df_list = [pd.DataFrame() for x in range(8)]\n",
    "for cat in df.category.unique():\n",
    "    subset = df[df.category == cat]\n",
    "    shuffled = subset.sample(frac=1)\n",
    "    result = np.array_split(shuffled, 8)  \n",
    "    for index, frame in enumerate(result):\n",
    "        df_list[index] = df_list[index].append(frame)\n",
    "for index, frame_subset in enumerate(df_list):\n",
    "    df_list[index] = frame_subset.to_dict('records')\n",
    "print(df_list,  file=open('F:\\photodraw\\experiments\\photodraw_norming\\photodraw32_metadata_sampled.js', 'w'))"
   ]
  }
 ],
 "metadata": {
  "kernelspec": {
   "display_name": "Python 3",
   "language": "python",
   "name": "python3"
  },
  "language_info": {
   "codemirror_mode": {
    "name": "ipython",
    "version": 3
   },
   "file_extension": ".py",
   "mimetype": "text/x-python",
   "name": "python",
   "nbconvert_exporter": "python",
   "pygments_lexer": "ipython3",
   "version": "3.7.7"
  }
 },
 "nbformat": 4,
 "nbformat_minor": 2
}
