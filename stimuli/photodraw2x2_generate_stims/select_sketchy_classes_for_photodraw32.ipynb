{
 "cells": [
  {
   "cell_type": "markdown",
   "metadata": {},
   "source": [
    "### Import packages and helper functions\n"
   ]
  },
  {
   "cell_type": "code",
   "execution_count": null,
   "metadata": {
    "scrolled": true
   },
   "outputs": [],
   "source": [
    "import os\n",
    "import re\n",
    "import csv\n",
    "import shutil\n",
    "import random\n",
    "import numpy as np\n",
    "import pandas as pd\n",
    "\n",
    "from glob import glob\n",
    "from PIL import Image\n",
    "\n",
    "import warnings\n",
    "warnings.filterwarnings(\"ignore\", category=DeprecationWarning)\n",
    "warnings.filterwarnings(\"ignore\", message=\"numpy.dtype size changed\")\n",
    "warnings.filterwarnings(\"ignore\", message=\"numpy.ufunc size changed\")"
   ]
  },
  {
   "cell_type": "code",
   "execution_count": null,
   "metadata": {},
   "outputs": [],
   "source": [
    "def make_dir_if_not_exists(dir_name):   \n",
    "    if not os.path.exists(dir_name):\n",
    "        os.makedirs(dir_name)\n",
    "    return dir_name\n",
    "def list_files(path, ext='png'):\n",
    "    result = [y for x in os.walk(path) for y in glob(os.path.join(x[0], '*.%s' % ext))]\n",
    "    return result"
   ]
  },
  {
   "cell_type": "markdown",
   "metadata": {},
   "source": [
    "### load in category-level annotations"
   ]
  },
  {
   "cell_type": "code",
   "execution_count": null,
   "metadata": {},
   "outputs": [],
   "source": [
    "## load in and inspect\n",
    "X = pd.read_csv('sketchy_class_annotations.csv')\n",
    "X.head()"
   ]
  },
  {
   "cell_type": "code",
   "execution_count": null,
   "metadata": {},
   "outputs": [],
   "source": [
    "## assign a new column that only contains the categories that seem pretty diverse\n",
    "X = X.assign(Diverse = X.apply(lambda x: True if x['Comments'][:3]=='yes' else False, axis=1))"
   ]
  },
  {
   "cell_type": "code",
   "execution_count": null,
   "metadata": {},
   "outputs": [],
   "source": [
    "## how many diverse categories are there?\n",
    "num_diverse = X['Diverse'].sum()\n",
    "print('There are {} diverse categories out of a total of {} categories.'.format(num_diverse, X.shape[0]))"
   ]
  },
  {
   "cell_type": "code",
   "execution_count": null,
   "metadata": {},
   "outputs": [],
   "source": [
    "## subset to only these diverse categories\n",
    "Y = X[X['Diverse']==True]"
   ]
  },
  {
   "cell_type": "code",
   "execution_count": null,
   "metadata": {},
   "outputs": [],
   "source": [
    "print(Y['Basic-level'].values)"
   ]
  },
  {
   "cell_type": "markdown",
   "metadata": {},
   "source": [
    "##### informal considerations for photodraw2x2\n",
    "- Would be nice to have a larger set of categories overall, say 32 categories this time\n",
    "- Would be nice to have a larger set of images in each category, e.g., 32 images in each category\n",
    "- Make sure to balance for the annotated traits in our dataframe"
   ]
  },
  {
   "cell_type": "code",
   "execution_count": null,
   "metadata": {},
   "outputs": [],
   "source": [
    "Y.groupby(['Natural','Familiar']).count()"
   ]
  },
  {
   "cell_type": "code",
   "execution_count": null,
   "metadata": {},
   "outputs": [],
   "source": [
    "Y.groupby(['Natural','Familiar','Large']).count()"
   ]
  },
  {
   "cell_type": "markdown",
   "metadata": {},
   "source": [
    "#### Goal for stimuli:\n",
    "- identify a set of 8 categories from each (Natural,Familiar) combination, yielding 32 classes in total.\n",
    "- Identify a set of 32 photos from each of these 32 categories to construct our photo-cue stimulus set, keeping balance across pose, etc."
   ]
  },
  {
   "cell_type": "code",
   "execution_count": null,
   "metadata": {},
   "outputs": [],
   "source": [
    "print(Y[(Y['Natural']==False) & (Y['Familiar']==False)][\"Basic-level\"].values)"
   ]
  },
  {
   "cell_type": "code",
   "execution_count": null,
   "metadata": {},
   "outputs": [],
   "source": [
    "print(Y[(Y['Natural']==False) & (Y['Familiar']==True)][\"Basic-level\"].values)"
   ]
  },
  {
   "cell_type": "code",
   "execution_count": null,
   "metadata": {},
   "outputs": [],
   "source": [
    "print(Y[(Y['Natural']==True) & (Y['Familiar']==False)][\"Basic-level\"].values)"
   ]
  },
  {
   "cell_type": "code",
   "execution_count": null,
   "metadata": {},
   "outputs": [],
   "source": [
    "print(Y[(Y['Natural']==True) & (Y['Familiar']==True)][\"Basic-level\"].values)"
   ]
  },
  {
   "cell_type": "markdown",
   "metadata": {},
   "source": [
    "#### Before reducing:\n",
    "\n",
    "| Natural      | Familiar |   Categories |\n",
    "| ----------- | ----------- | ----------- |\n",
    "| True      | True  | beetle, butterfly, cat, dog, fish, flower, mushroom, rabbit, raccoon, seal, spider, squirrel, tree   |\n",
    "| True   | False | ape, bat, bear, camel, elephant, hermit_crab, jellyfish, kangaroo, lion, ray, scorpion, sheep, snake, starfish |\n",
    "| False | True | airplane, bread, car_(sedan), church, cup, fan, hat, piano, pickup_truck, shoe, skyscraper. teapot, window |\n",
    "| False   |  False |  axe, blimp, castle, hotdog, jack-o-lantern, motorcycle, saw, windmill |"
   ]
  },
  {
   "cell_type": "markdown",
   "metadata": {},
   "source": [
    "#### After reducing:\n",
    "\n",
    "| Natural      | Familiar |   Categories |\n",
    "| ----------- | ----------- | ----------- |\n",
    "| True      | True  | butterfly, cat, fish, flower, mushroom, raccoon, squirrel, tree |\n",
    "| True   | False | ape, elephant, jellyfish, kangaroo, lion, ray, scorpion, snake |\n",
    "| False | True | airplane, bread, car_(sedan), cup, hat, piano, skyscraper, window |\n",
    "| False   |  False |  axe, blimp, castle, hotdog, jack-o-lantern, motorcycle, saw, windmill |"
   ]
  },
  {
   "cell_type": "code",
   "execution_count": null,
   "metadata": {},
   "outputs": [],
   "source": [
    "group1 = ['butterfly', 'cat', 'fish', 'flower', 'mushroom', 'raccoon', 'squirrel', 'tree']\n",
    "group2 = ['ape', 'elephant', 'jellyfish', 'kangaroo', 'lion', 'ray', 'scorpion', 'snake']\n",
    "group3 = ['airplane', 'bread', 'car_(sedan)', 'cup', 'hat', 'piano', 'skyscraper', 'window']\n",
    "group4 = ['axe', 'blimp', 'castle', 'hotdog', 'jack-o-lantern', 'motorcycle', 'saw', 'windmill']\n",
    "categories = sorted([*group1, *group2, *group3, *group4])\n",
    "categories"
   ]
  },
  {
   "cell_type": "markdown",
   "metadata": {},
   "source": [
    "### Made directory housing the 32x32 stimulus set"
   ]
  },
  {
   "cell_type": "code",
   "execution_count": null,
   "metadata": {},
   "outputs": [],
   "source": [
    "df = pd.read_csv('sketchy_image_paths.csv')"
   ]
  },
  {
   "cell_type": "code",
   "execution_count": null,
   "metadata": {},
   "outputs": [],
   "source": [
    "stim_dir = os.path.abspath('..')\n",
    "photodraw_32_stims = os.path.join(stim_dir, 'photodraw32_stims')\n",
    "\n",
    "[make_dir_if_not_exists(x) for x in [stim_dir, photodraw_32_stims]]\n",
    "\n",
    "category_paths = [os.path.join(photodraw_32_stims, category) for category in df.Category.unique()]\n",
    "[make_dir_if_not_exists(x) for x in category_paths]"
   ]
  },
  {
   "cell_type": "code",
   "execution_count": null,
   "metadata": {},
   "outputs": [],
   "source": [
    "reallyRun = 0\n",
    "if reallyRun:\n",
    "    # copy files from source to destination (in photodraw repo)\n",
    "    for index, row in df.iterrows():\n",
    "        source = row.Path\n",
    "        destination = os.path.join(photodraw_32_stims, row.Category)\n",
    "        shutil.copy(source,destination)"
   ]
  },
  {
   "cell_type": "markdown",
   "metadata": {},
   "source": [
    "### Create metadata file for amazon s3 upload"
   ]
  },
  {
   "cell_type": "code",
   "execution_count": null,
   "metadata": {},
   "outputs": [],
   "source": [
    "# Get updated filenames in photodraw2_stims\n",
    "os.chdir('../') \n",
    "destinationFiles = list_files('photodraw32_stims', 'png')\n",
    "destinationFiles = sorted(destinationFiles, \n",
    "                          key=lambda path: (path.split('\\\\')[-2], int(re.split(r'[_.\\\\]', path)[-2])))"
   ]
  },
  {
   "cell_type": "code",
   "execution_count": null,
   "metadata": {
    "scrolled": true
   },
   "outputs": [],
   "source": [
    "# do the nitty gritty of forming our photo-cue metadata\n",
    "indices = pd.Series([str(i) if i >= 10 else '0' + str(i) for i in range(32)] * 32, dtype=str)\n",
    "photodraw32_metadata = pd.DataFrame(data = {'category': [i for i in sorted(df.Category.unique()) for j in range(32)],\n",
    "                                            'index': indices, \n",
    "                                            'sketchy_preprocessing_mode': 'tx_000100000000',\n",
    "                                            'sketchy_filepath': destinationFiles})\n",
    "photodraw32_metadata['sketchy_filename'] = photodraw32_metadata.apply(\n",
    "    lambda row: os.path.split(row.sketchy_filepath)[1], axis=1)\n",
    "photodraw32_metadata['photodraw32_filename'] = photodraw32_metadata.apply(\n",
    "    lambda row: row['category'] + '_' + row['index'] , axis=1)\n",
    "photodraw32_metadata['s3_filename'] = photodraw32_metadata.apply(\n",
    "    lambda row: row['sketchy_filename'][:-4] + '_' +\n",
    "    row['photodraw32_filename'] + row['sketchy_filename'][-4:], axis=1)\n",
    "photodraw32_metadata['s3_url'] = photodraw32_metadata.apply(\n",
    "    lambda row: \"https://photodraw32.s3.amazonaws.com/\" + row['s3_filename'], axis = 1)"
   ]
  },
  {
   "cell_type": "code",
   "execution_count": null,
   "metadata": {},
   "outputs": [],
   "source": [
    "# convert all stims to png format\n",
    "convertToPNG = False\n",
    "if convertToPNG:\n",
    "    for filename in destinationFiles:\n",
    "        if filename.endswith(\".jpg\"):\n",
    "            im = Image.open(filename)\n",
    "            rgb_im = im.convert('RGB')\n",
    "            rgb_im.save(filename[:-4]+'.png')\n",
    "            os.remove(filename)\n",
    "            continue\n",
    "        else:\n",
    "            continue"
   ]
  },
  {
   "cell_type": "code",
   "execution_count": null,
   "metadata": {},
   "outputs": [],
   "source": [
    "# update metadata to reflect png \n",
    "for index, row in photodraw32_metadata.iterrows():\n",
    "    for columnname, columndata in row.iteritems():\n",
    "        if \".jpg\" in str(columndata):\n",
    "            photodraw32_metadata[columnname][index] = photodraw32_metadata[columnname][index][:-3] + \"png\"\n",
    "        else:\n",
    "            continue"
   ]
  },
  {
   "cell_type": "code",
   "execution_count": null,
   "metadata": {},
   "outputs": [],
   "source": [
    "# add batch number identifier to metadata\n",
    "batch_list = []\n",
    "for cat in photodraw32_metadata.category.unique():\n",
    "    temp_list = list(range(0,8))*4\n",
    "    random.shuffle(temp_list)\n",
    "    batch_list.append(temp_list)\n",
    "\n",
    "# turns the list of lists into just a single list\n",
    "batch_list = [item for sublist in batch_list for item in sublist]\n",
    "photodraw32_metadata['batch_num'] = batch_list"
   ]
  },
  {
   "cell_type": "code",
   "execution_count": null,
   "metadata": {},
   "outputs": [],
   "source": [
    "# sanity check: do the categories have the same batch_num?\n",
    "rand_category = np.random.choice(photodraw32_metadata.category.unique())\n",
    "photodraw32_metadata[photodraw32_metadata.category == rand_category]['batch_num'].value_counts()"
   ]
  },
  {
   "cell_type": "code",
   "execution_count": null,
   "metadata": {},
   "outputs": [],
   "source": [
    "# take a look at our finished metadata\n",
    "photodraw32_metadata.sample()"
   ]
  },
  {
   "cell_type": "code",
   "execution_count": null,
   "metadata": {},
   "outputs": [],
   "source": [
    "# save out data\n",
    "reallyRun = False\n",
    "if reallyRun:\n",
    "    dest_path = os.path.join(stim_dir, 'photodraw32_metadata.csv')\n",
    "    photodraw32_metadata.to_csv(dest_path, index=False)"
   ]
  },
  {
   "cell_type": "markdown",
   "metadata": {},
   "source": [
    "### turn into list of dicts"
   ]
  },
  {
   "cell_type": "code",
   "execution_count": null,
   "metadata": {},
   "outputs": [],
   "source": [
    "# convert our metadata.csv into metadata.js file for norming study  \n",
    "with open('..\\..\\stimuli\\photodraw32_metadata.csv') as f:\n",
    "    a = [{k: v for k, v in row.items()} for row in csv.DictReader(f, skipinitialspace=True)]\n",
    "print(a,  file=open('..\\..\\experiments\\photodraw_norming\\photodraw32_metadata.js', 'w'))"
   ]
  },
  {
   "cell_type": "code",
   "execution_count": null,
   "metadata": {},
   "outputs": [],
   "source": [
    "df = pd.read_csv('..\\..\\stimuli\\photodraw32_metadata.csv')"
   ]
  },
  {
   "cell_type": "code",
   "execution_count": null,
   "metadata": {
    "scrolled": true
   },
   "outputs": [],
   "source": [
    "# partition dataframe into 8 subsets with equal amount of images in each category\n",
    "df_list = [pd.DataFrame() for x in range(8)]\n",
    "for cat in df.category.unique():\n",
    "    subset = df[df.category == cat]\n",
    "    shuffled = subset.sample(frac=1)\n",
    "    result = np.array_split(shuffled, 8)  \n",
    "    for index, frame in enumerate(result):\n",
    "        df_list[index] = df_list[index].append(frame)\n",
    "for index, frame_subset in enumerate(df_list):\n",
    "    df_list[index] = frame_subset.to_dict('records')\n",
    "print(df_list,  file=open('F:\\photodraw\\experiments\\photodraw_norming\\photodraw32_metadata_sampled.js', 'w'))"
   ]
  }
 ],
 "metadata": {
  "kernelspec": {
   "display_name": "Python 3",
   "language": "python",
   "name": "python3"
  },
  "language_info": {
   "codemirror_mode": {
    "name": "ipython",
    "version": 3
   },
   "file_extension": ".py",
   "mimetype": "text/x-python",
   "name": "python",
   "nbconvert_exporter": "python",
   "pygments_lexer": "ipython3",
   "version": "3.7.7"
  }
 },
 "nbformat": 4,
 "nbformat_minor": 2
}
