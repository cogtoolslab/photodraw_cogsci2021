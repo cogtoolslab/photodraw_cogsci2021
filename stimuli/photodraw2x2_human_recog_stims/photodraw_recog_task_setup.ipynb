{
 "cells": [
  {
   "cell_type": "markdown",
   "id": "heard-impact",
   "metadata": {},
   "source": [
    "## Determine pricing and get metadata into recognition task experiment directories"
   ]
  },
  {
   "cell_type": "code",
   "execution_count": null,
   "id": "critical-thursday",
   "metadata": {},
   "outputs": [],
   "source": [
    "import os\n",
    "import csv\n",
    "import time\n",
    "import socket\n",
    "import random\n",
    "import pandas as pd\n",
    "from PIL import Image"
   ]
  },
  {
   "cell_type": "code",
   "execution_count": null,
   "id": "strategic-lecture",
   "metadata": {},
   "outputs": [],
   "source": [
    "# directory & file hierarchy\n",
    "proj_dir = os.path.abspath('..')\n",
    "results_dir = os.path.join(proj_dir,'results')\n",
    "plot_dir = os.path.join(results_dir,'plots')\n",
    "csv_dir = os.path.join(results_dir,'csv')\n",
    "exp_dir = os.path.abspath(os.path.join(proj_dir,'experiments'))\n",
    "sketch_dir = os.path.abspath(os.path.join(proj_dir,'sketches'))\n",
    "gallery_dir = os.path.abspath(os.path.join(proj_dir,'gallery'))\n",
    "if socket.gethostname() == 'nightingale':\n",
    "    feature_dir = os.path.abspath('/mnt/pentagon/photodraw/features/')\n",
    "else:\n",
    "    feature_dir = os.path.abspath(os.path.join(proj_dir,'features'))\n",
    "    \n",
    "meta_path = os.path.abspath(os.path.join(feature_dir, 'metadata_pixels.csv'))\n",
    "image_path = os.path.abspath(os.path.join(feature_dir, 'flattened_sketches_pixels.npy'))\n",
    "meta_path_fc6 = os.path.abspath(os.path.join(feature_dir, 'METADATA_sketch.csv'))\n",
    "image_path_fc6 = os.path.abspath(os.path.join(feature_dir, 'FEATURES_FC6_sketch_no-channel-norm.npy'))"
   ]
  },
  {
   "cell_type": "code",
   "execution_count": null,
   "id": "weird-clearing",
   "metadata": {},
   "outputs": [],
   "source": [
    "K = pd.read_csv(os.path.join(csv_dir, 'photodraw2x2_sketch_data.csv'))"
   ]
  },
  {
   "cell_type": "markdown",
   "id": "closing-mountain",
   "metadata": {},
   "source": [
    "### Determine pricing & setup for recognition experiments\n",
    "#### Category-level recognition task setup"
   ]
  },
  {
   "cell_type": "code",
   "execution_count": null,
   "id": "least-street",
   "metadata": {},
   "outputs": [],
   "source": [
    "# experiment parameters\n",
    "pay_per_hour = 12\n",
    "seconds_per_rating = 3.5580\n",
    "catch_trials = 4\n",
    "ratings_per_session = 32 * 4 + 4\n",
    "ratings_per_sketch = 3\n",
    "instruct_surveys_length = 4"
   ]
  },
  {
   "cell_type": "code",
   "execution_count": null,
   "id": "human-battery",
   "metadata": {},
   "outputs": [],
   "source": [
    "num_sketches_overall = len(K)\n",
    "\n",
    "total_session_length = ratings_per_session + catch_trials\n",
    "\n",
    "total_ratings = num_sketches_overall * ratings_per_sketch\n",
    "total_participants_needed = total_ratings / ratings_per_session\n",
    "session_time = (total_session_length * seconds_per_rating / 60) + instruct_surveys_length\n",
    "total_pay_hours = total_participants_needed * session_time / 60\n",
    "total_pay = total_pay_hours * pay_per_hour\n",
    "print(f'category level recognition task: \\n \\n'\n",
    "      f'total pay: ${total_pay} \\n'\n",
    "      f'total cost: ${total_pay * 1.33} \\n'\n",
    "      f'total participants: {int(total_participants_needed)} \\n'\n",
    "      f'experiment length: {session_time} mins \\n'\n",
    "      f'session length: {total_session_length} trials \\n'\n",
    "      f'assuming {seconds_per_rating} seconds per rating \\n'\n",
    "      f'{ratings_per_sketch} rating(s) per sketch')"
   ]
  },
  {
   "cell_type": "markdown",
   "id": "accredited-christianity",
   "metadata": {},
   "source": [
    "#### Instance-level recognition task setup"
   ]
  },
  {
   "cell_type": "code",
   "execution_count": null,
   "id": "empty-algeria",
   "metadata": {},
   "outputs": [],
   "source": [
    "# experiment parameters\n",
    "pay_per_hour = 12\n",
    "seconds_per_rating = 9.39355\n",
    "catch_trials = 4\n",
    "ratings_per_session = 32 * 4 + 4\n",
    "ratings_per_sketch = 3"
   ]
  },
  {
   "cell_type": "code",
   "execution_count": null,
   "id": "brown-classic",
   "metadata": {
    "scrolled": true
   },
   "outputs": [],
   "source": [
    "num_sketches_photo = len(K[K.condition == 'photo'])\n",
    "\n",
    "total_session_length = ratings_per_session + catch_trials\n",
    "\n",
    "total_ratings = num_sketches_photo * ratings_per_sketch\n",
    "total_participants_needed = total_ratings / ratings_per_session\n",
    "session_time = (total_session_length * seconds_per_rating / 60) + instruct_surveys_length\n",
    "total_pay_hours = total_participants_needed * session_time / 60\n",
    "total_pay = total_pay_hours * pay_per_hour\n",
    "print(f'instance level recognition task: \\n \\n'\n",
    "      f'total pay: ${total_pay} \\n'\n",
    "      f'total cost: ${total_pay * 1.33} \\n'\n",
    "      f'total participants: {int(total_participants_needed)} \\n'\n",
    "      f'experiment length: {session_time} mins \\n'\n",
    "      f'session length: {total_session_length} trials \\n'\n",
    "      f'assuming {seconds_per_rating} seconds per rating \\n'\n",
    "      f'{ratings_per_sketch} rating(s) per sketch')"
   ]
  },
  {
   "cell_type": "markdown",
   "id": "reverse-handle",
   "metadata": {},
   "source": [
    "### Get metadata files in .js format for each experiment"
   ]
  },
  {
   "cell_type": "markdown",
   "id": "strategic-heart",
   "metadata": {},
   "source": [
    "#### Category-level recognition task"
   ]
  },
  {
   "cell_type": "code",
   "execution_count": null,
   "id": "earlier-prince",
   "metadata": {},
   "outputs": [],
   "source": [
    "photodraw32_meta = pd.read_csv('photodraw32_metadata.csv')\n",
    "photodraw32_sketches_meta = pd.read_csv('photodraw32_s3_sketches_metadata.csv')"
   ]
  },
  {
   "cell_type": "code",
   "execution_count": null,
   "id": "popular-syndication",
   "metadata": {},
   "outputs": [],
   "source": [
    "for cat in photodraw32_sketches_meta.category.unique():\n",
    "    cat_subset = photodraw32_sketches_meta[photodraw32_sketches_meta.category == cat]\n",
    "    for goal in cat_subset.goal.unique():\n",
    "        cat_goal_subset = cat_subset[cat_subset.goal == goal]\n",
    "        for condition in cat_goal_subset.condition.unique():\n",
    "            cat_goal_condition_subset = cat_goal_subset[cat_goal_subset.condition == condition]\n",
    "            inds = cat_goal_condition_subset.index.values\n",
    "            photodraw32_sketches_meta.loc[inds, 'batch_num'] = random.sample(range(len(inds)), len(inds))\n",
    "\n",
    "photodraw32_sketches_meta['batch_num'] = photodraw32_sketches_meta.batch_num.astype(int)\n",
    "if False:\n",
    "    photodraw32_sketches_meta.to_csv('photodraw32_category_recog.csv', index=False)\n",
    "    with open('photodraw32_category_recog.csv') as f:\n",
    "        a = [{k: v for k, v in row.items()} for row in csv.DictReader(f, skipinitialspace=True)]\n",
    "    print(a,  file=open(os.path.join(exp_dir, 'recogdraw_category', 'photodraw32_category_recog.js'), 'w'))"
   ]
  },
  {
   "cell_type": "markdown",
   "id": "configured-pregnancy",
   "metadata": {},
   "source": [
    "#### Instance-level recognition task"
   ]
  },
  {
   "cell_type": "code",
   "execution_count": null,
   "id": "challenging-earthquake",
   "metadata": {},
   "outputs": [],
   "source": [
    "def check_for_repeats():\n",
    "    for i in range(int(len(batches) / 3)):\n",
    "        if any([j[0] == j[1] for j in combinations(batches[i*3:(i+1)*3], 2)]):\n",
    "            return False\n",
    "    return True"
   ]
  },
  {
   "cell_type": "code",
   "execution_count": null,
   "id": "outstanding-conditioning",
   "metadata": {},
   "outputs": [],
   "source": [
    "instance_stims_meta = pd.read_csv('photodraw32_instance_validation_metadata.csv')"
   ]
  },
  {
   "cell_type": "code",
   "execution_count": null,
   "id": "deadly-mexican",
   "metadata": {},
   "outputs": [],
   "source": [
    "for cat in instance_stims_meta.category.unique():\n",
    "    cat_subset = instance_stims_meta[instance_stims_meta.category == cat]\n",
    "    \n",
    "    for goal in cat_subset.goal.unique():\n",
    "        cat_goal_subset = cat_subset[cat_subset.goal == goal]\n",
    "        inds = cat_goal_subset.index.values\n",
    "    \n",
    "        batches = list(range(int(len(inds) / 2))) * 2\n",
    "        random.shuffle(batches)\n",
    "        # make sure no three adjacent elements have the same batch \n",
    "        while check_for_repeats():\n",
    "            random.shuffle(batches)\n",
    "\n",
    "        for part, img in enumerate(cat_goal_subset.image_id.unique()):\n",
    "            cat_goal_img_subset = cat_goal_subset[cat_goal_subset.image_id == img]\n",
    "            inds = cat_goal_img_subset.index.values\n",
    "            three_batch = [batches.pop(0) for i in range(3)]\n",
    "            instance_stims_meta.loc[inds, 'batch_num'] = three_batch\n",
    "\n",
    "instance_stims_meta['batch_num'] = instance_stims_meta.batch_num.astype(int)\n",
    "\n",
    "if False:\n",
    "    instance_stims_meta.to_csv('photodraw32_instance_recog.csv', index=False)\n",
    "    with open('photodraw32_instance_recog.csv') as f:\n",
    "        a = [{k: v for k, v in row.items()} for row in csv.DictReader(f, skipinitialspace=True)]\n",
    "    print(a,  file=open(os.path.join(exp_dir, 'recogdraw_instance', 'photodraw32_instance_recog.js'), 'w'))"
   ]
  }
 ],
 "metadata": {
  "kernelspec": {
   "display_name": "Python 3",
   "language": "python",
   "name": "python3"
  },
  "language_info": {
   "codemirror_mode": {
    "name": "ipython",
    "version": 3
   },
   "file_extension": ".py",
   "mimetype": "text/x-python",
   "name": "python",
   "nbconvert_exporter": "python",
   "pygments_lexer": "ipython3",
   "version": "3.7.7"
  }
 },
 "nbformat": 4,
 "nbformat_minor": 5
}
