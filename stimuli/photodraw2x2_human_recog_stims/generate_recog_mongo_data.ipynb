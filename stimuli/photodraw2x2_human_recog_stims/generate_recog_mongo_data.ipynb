{
 "cells": [
  {
   "cell_type": "markdown",
   "metadata": {},
   "source": [
    "### Generate metadata objects to be inserted into MongoDB, such that we can ensure even sampling of stimuli\n",
    "\n",
    "\n",
    "Inspired by Cameron's and Holly's code:\n",
    "\n",
    "https://github.com/cogtoolslab/curiotower/blob/master/stimuli/generate_metadata.ipynb\n",
    "https://github.com/cogtoolslab/causaldraw_intervention/blob/master/intervention/stimuli/generate_metadata_intervention.ipynb"
   ]
  },
  {
   "cell_type": "code",
   "execution_count": null,
   "metadata": {},
   "outputs": [],
   "source": [
    "import os\n",
    "import ast\n",
    "import json\n",
    "import socket\n",
    "import random\n",
    "import pandas as pd\n",
    "import pymongo as pm\n",
    "from collections import Counter\n",
    "from IPython.display import clear_output"
   ]
  },
  {
   "cell_type": "code",
   "execution_count": null,
   "metadata": {},
   "outputs": [],
   "source": [
    "# directory & file hierarchy\n",
    "proj_dir = os.path.abspath('..')\n",
    "analysis_dir = os.path.join(proj_dir,'analysis')\n",
    "results_dir = os.path.join(proj_dir,'results')\n",
    "plot_dir = os.path.join(results_dir,'plots')"
   ]
  },
  {
   "cell_type": "markdown",
   "metadata": {},
   "source": [
    "#### Helper code to update metadata in mongo"
   ]
  },
  {
   "cell_type": "code",
   "execution_count": null,
   "metadata": {},
   "outputs": [],
   "source": [
    "def get_coll_from_mongo(coll_name, iter_name, auth, reallyRun = False):\n",
    "    if reallyRun:\n",
    "        # set vars \n",
    "        pswd = auth.values[0][0]\n",
    "        user = 'sketchloop'\n",
    "        host = 'cogtoolslab.org'\n",
    "\n",
    "        # have to fix this to be able to analyze from local\n",
    "        import socket\n",
    "        if socket.gethostname().split('_')[0]=='Justin':\n",
    "            conn = pm.MongoClient('mongodb://sketchloop:' + pswd + '@127.0.0.1:27020')\n",
    "        else:\n",
    "            conn = pm.MongoClient('mongodb://sketchloop:' + pswd + '@127.0.0.1:27017')\n",
    "        db = conn['photodraw']\n",
    "        coll = db[coll_name]\n",
    "\n",
    "        ## how many records do we have in mongo?\n",
    "        print(f'We have {coll.estimated_document_count()} records in {coll_name}: {iter_name}.')\n",
    "              \n",
    "        # Sketches\n",
    "        t = coll.find({'iterationName':iter_name, 'eventType':'trial'})\n",
    "        T = pd.DataFrame(t)\n",
    "\n",
    "        # Surveys\n",
    "        s = coll.find({'iterationName':iter_name, 'eventType':'survey'})\n",
    "        S = pd.DataFrame(s) #.sort_values('aID').reset_index(drop=True)\n",
    "    return T, S"
   ]
  },
  {
   "cell_type": "code",
   "execution_count": null,
   "metadata": {},
   "outputs": [],
   "source": [
    "def subset_valid_drawings(data):\n",
    "    unique_cats = pd.DataFrame(data.groupby(['prolificID', 'gameID']).trial_index.nunique()).reset_index()\n",
    "    complete_sessions = unique_cats[unique_cats.trial_index == 136].gameID\n",
    "    return data[data.gameID.isin(complete_sessions)]\n",
    "\n",
    "\n",
    "def subset_valid_drawings_full(trial_data, survey_data):\n",
    "    # subset the sessions that were complete (all 136 trials done)\n",
    "    trial_data = subset_valid_drawings(trial_data)\n",
    "\n",
    "    # then sort the trial values comparably\n",
    "    trial_data = trial_data.sort_values(by=['gameID', 'trial_index']).reset_index(drop=True)\n",
    "    survey_data = survey_data.sort_values(by=['gameID']).reset_index(drop=True)\n",
    "\n",
    "    # count the number of unique categories in each prolific-gameID combo\n",
    "    id_counts = pd.DataFrame(trial_data.groupby(['prolificID','gameID']).trial_index.nunique()).reset_index()\n",
    "    # get the gameIDs corresponding only to complete sessions \n",
    "    valid_gameIDs = id_counts[id_counts.trial_index == 136].drop_duplicates('prolificID', 'last').gameID.values\n",
    "\n",
    "    # subset valid sessions\n",
    "    trial_data = trial_data[trial_data.gameID.isin(valid_gameIDs)]\n",
    "    survey_data = survey_data[survey_data.gameID.isin(valid_gameIDs)]\n",
    "    \n",
    "    return trial_data, survey_data\n",
    "\n",
    "def get_batch_nums_used(data):\n",
    "    batches_used = pd.DataFrame(data['batch_num'].value_counts() / 32)\n",
    "    batches_used['batch_num'] = batches_used.batch_num.astype(int)\n",
    "    batches_used = batches_used.sort_index()\n",
    "    return batches_used\n",
    "\n",
    "def get_remaining_inds(trial_data, survey_data):\n",
    "    # first, fully subset complete sessions\n",
    "    a, b = subset_valid_drawings_full(trial_data, survey_data)\n",
    "    \n",
    "    # then, get the the batch nums used and figure out which indices remain to be used\n",
    "    batch_df = get_batch_nums_used(a)\n",
    "    inds_used = [row.name for index, row in batch_df.iterrows() for i in range(row.batch_num)]\n",
    "    inds = [i for i in range(32) for j in range(3)]\n",
    "    diff = Counter(inds) - Counter(inds_used)\n",
    "    remaining_inds = list(diff.elements())\n",
    "\n",
    "    return remaining_inds"
   ]
  },
  {
   "cell_type": "markdown",
   "metadata": {},
   "source": [
    "### Step 1: Create metadata file, containing simple arrays of index numbers\n",
    "\n",
    "There is already client-side metadata being loaded in containing information for every cue in the experiments. One of the metadata parameters is an indexing variable from 0 to 96 for `recogdraw_category`, and 0 to 48 for `recogdraw_instance`. The goal for step 1 is to create a file for each participant we wish to run (288 participants for `recogdraw_category`, 144 participants for `recogdraw_instance`.)"
   ]
  },
  {
   "cell_type": "markdown",
   "metadata": {},
   "source": [
    "#### Run this cell if on the first pass of the experiments"
   ]
  },
  {
   "cell_type": "code",
   "execution_count": null,
   "metadata": {},
   "outputs": [],
   "source": [
    "reallyRun = False\n",
    "if reallyRun == True:\n",
    "    # since the actual metadata is loaded in on the client-side, we just need to pop out an index number for\n",
    "    # each of our 96*3 participants: \n",
    "    inds = [i for i in range(96) for j in range(3)] \n",
    "    print(inds, len(inds))\n",
    "    \n",
    "    # create a simple dictionary and save out to meta.js file\n",
    "    M = pd.DataFrame(inds, columns=['sketch_ind'])\n",
    "    M['games'] = '[]'\n",
    "    M['games'] = M['games'].apply(lambda x: ast.literal_eval(x))\n",
    "\n",
    "    J1 = M.to_dict(orient='records')\n",
    "\n",
    "    with open('recogdraw_category_meta.js', 'w') as fout:\n",
    "        json.dump(J1, fout)\n",
    "        \n",
    "reallyRun = False\n",
    "if reallyRun == True:    \n",
    "    # same concept, this time with 144 participants for instance recognition (each sketch gets 3 ratings)\n",
    "    inds = [i for i in range(48) for j in range(3)]\n",
    "    print(inds, len(inds))\n",
    "    \n",
    "    # create a simple dictionary and save out to meta.js file\n",
    "    M = pd.DataFrame(inds, columns=['sketch_ind'])\n",
    "    M['games'] = '[]'\n",
    "    M['games'] = M['games'].apply(lambda x: ast.literal_eval(x))\n",
    "\n",
    "    J2 = M.to_dict(orient='records')\n",
    "\n",
    "    with open('recogdraw_instance_meta.js', 'w') as fout:\n",
    "        json.dump(J2, fout)"
   ]
  },
  {
   "cell_type": "markdown",
   "metadata": {},
   "source": [
    "### Step 2: Insert each trial as a record into a mongo database"
   ]
  },
  {
   "cell_type": "markdown",
   "metadata": {},
   "source": [
    "#### establish connection to mongo\n",
    "`ssh -fNL 27020:127.0.0.1:27017 jyang@cogtoolslab.org` <br>\n",
    "`ssh -fNL 27017:127.0.0.1:27017 user@cogtoolslab.org`\n"
   ]
  },
  {
   "cell_type": "code",
   "execution_count": null,
   "metadata": {},
   "outputs": [],
   "source": [
    "reallyRun = False\n",
    "if reallyRun == True:\n",
    "    # set vars \n",
    "    auth = pd.read_csv('../analysis/auth.txt', header = None) \n",
    "    pswd = auth.values[0][0]\n",
    "    user = 'sketchloop'\n",
    "    host = 'cogtoolslab.org'\n",
    "\n",
    "    # have to fix this to be able to analyze from local\n",
    "    if socket.gethostname().split('_')[0]=='Justin':\n",
    "        conn = pm.MongoClient('mongodb://sketchloop:' + pswd + '@127.0.0.1:27020')\n",
    "    else:\n",
    "        conn = pm.MongoClient('mongodb://sketchloop:' + pswd + '@127.0.0.1:27017')\n",
    "    db = conn['photodraw']"
   ]
  },
  {
   "cell_type": "code",
   "execution_count": null,
   "metadata": {
    "scrolled": true
   },
   "outputs": [],
   "source": [
    "reallyRun = False\n",
    "if reallyRun == True:\n",
    "    ## actually add data now to the database (category)\n",
    "    coll = db['recogdraw_category_stims']\n",
    "    random.shuffle(J1)\n",
    "    for (i,m) in enumerate(J1):\n",
    "        coll.insert_one(m)\n",
    "        print(f'{i+1} of {len(J1)}| Inserting sketch index {m[\"sketch_ind\"]}')\n",
    "        clear_output(wait=True)\n",
    "\n",
    "    print('Done inserting category records into mongo!')\n",
    "\n",
    "    ## check collection to see what records look like\n",
    "    print(coll.find_one(), coll.estimated_document_count())\n",
    "\n",
    "reallyRun = False\n",
    "if reallyRun == True:\n",
    "    ## actually add data now to the database (instances)\n",
    "    coll = db['recogdraw_instance_stims']\n",
    "    random.shuffle(J2)\n",
    "    for (i,m) in enumerate(J2):\n",
    "        coll.insert_one(m)\n",
    "        print(f'{i+1} of {len(J2)}| Inserting sketch index {m[\"sketch_ind\"]}')\n",
    "        clear_output(wait=True)\n",
    "\n",
    "    print('Done inserting instance records into mongo!')\n",
    "    \n",
    "    ## check collection to see what records look like\n",
    "    print(coll.find_one(), coll.estimated_document_count())"
   ]
  },
  {
   "cell_type": "markdown",
   "metadata": {},
   "source": [
    "### Step 3: update mongo database with only the remaining indices that haven't been completed yet\n",
    "\n",
    "importantly. only run this when the study is inactive, otherwise studies that would have been completed would get flagged as invalid and their index would be put back into the pool in mongo"
   ]
  },
  {
   "cell_type": "code",
   "execution_count": null,
   "metadata": {},
   "outputs": [],
   "source": [
    "reallyRun = False\n",
    "if reallyRun == True:\n",
    "    # set vars \n",
    "    auth = pd.read_csv('../analysis/auth.txt', header = None) \n",
    "    pswd = auth.values[0][0]\n",
    "    user = 'sketchloop'\n",
    "    host = 'cogtoolslab.org'\n",
    "\n",
    "    # have to fix this to be able to analyze from local\n",
    "    if socket.gethostname().split('_')[0]=='Justin':\n",
    "        conn = pm.MongoClient('mongodb://sketchloop:' + pswd + '@127.0.0.1:27020')\n",
    "    else:\n",
    "        conn = pm.MongoClient('mongodb://sketchloop:' + pswd + '@127.0.0.1:27017')\n",
    "    db = conn['photodraw']\n",
    "\n",
    "    # clear existing entries in mongo and add just the ones remaining \n",
    "    for experiment in ['recogdraw_instance', 'recogdraw_category']:\n",
    "\n",
    "        # first, get remaining (unused) sketch indices\n",
    "        trial, survey = get_coll_from_mongo(experiment.replace('_', '-'), 'development', \n",
    "                                            auth = auth, reallyRun = True)\n",
    "        remainder = get_remaining_inds(trial, survey)\n",
    "\n",
    "        # create a simple dictionary and save out to meta.js file\n",
    "        M = pd.DataFrame(remainder, columns=['sketch_ind'])\n",
    "        M['games'] = '[]'\n",
    "        M['games'] = M['games'].apply(lambda x: ast.literal_eval(x))\n",
    "        J = M.to_dict(orient='records')\n",
    "        with open(f'{experiment}_meta.js', 'w') as fout:\n",
    "            json.dump(J, fout)\n",
    "\n",
    "        # then shuffle indices\n",
    "        random.shuffle(J)\n",
    "\n",
    "        # declare and empty collection\n",
    "        coll = db[f'{experiment}_stims']\n",
    "        coll.drop()\n",
    "\n",
    "        # insert new indices back into mongo\n",
    "        for (i,m) in enumerate(J):\n",
    "            coll.insert_one(m)\n",
    "            print(f'{i+1} of {len(J)}| Inserting sketch index {m[\"sketch_ind\"]}')\n",
    "            clear_output(wait=True)\n",
    "\n",
    "    print('Done inserting updated records into mongo!')"
   ]
  },
  {
   "cell_type": "markdown",
   "metadata": {},
   "source": [
    "### To dump mongo stims, run: \n",
    "\n",
    "`db['instancedraw_photo_stims'].drop()` <br>\n",
    "`db['categorydraw_photo_stims'].drop()`"
   ]
  },
  {
   "cell_type": "code",
   "execution_count": null,
   "metadata": {},
   "outputs": [],
   "source": [
    "reallyRun == True\n",
    "if reallyRun:\n",
    "    with open(\"categorydraw_photo_stims_freeze_2.txt\", \"w\") as output:\n",
    "        output.write(str(list(db['recogdraw_category_stims'].find({}))))\n",
    "\n",
    "    with open(\"instancedraw_photo_stims_freeze_2.txt\", \"w\") as output:\n",
    "        output.write(str(list(db['recogdraw_instance_stims'].find({}))))"
   ]
  }
 ],
 "metadata": {
  "kernelspec": {
   "display_name": "Python 3",
   "language": "python",
   "name": "python3"
  },
  "language_info": {
   "codemirror_mode": {
    "name": "ipython",
    "version": 3
   },
   "file_extension": ".py",
   "mimetype": "text/x-python",
   "name": "python",
   "nbconvert_exporter": "python",
   "pygments_lexer": "ipython3",
   "version": "3.7.7"
  }
 },
 "nbformat": 4,
 "nbformat_minor": 4
}
