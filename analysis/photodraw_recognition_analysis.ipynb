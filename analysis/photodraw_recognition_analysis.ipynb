{
 "cells": [
  {
   "cell_type": "markdown",
   "id": "emotional-calcium",
   "metadata": {},
   "source": [
    "## Follow the instructions of this notebook to create all relevant directories and to load all relevant data into the correct places"
   ]
  },
  {
   "cell_type": "markdown",
   "id": "refined-making",
   "metadata": {},
   "source": [
    "### Import packages and set up paths"
   ]
  },
  {
   "cell_type": "code",
   "execution_count": null,
   "id": "korean-dietary",
   "metadata": {},
   "outputs": [],
   "source": [
    "import os \n",
    "import sys\n",
    "import socket\n",
    "import numpy as np\n",
    "import pandas as pd\n",
    "import pymongo as pm\n",
    "\n",
    "import matplotlib.pyplot as plt\n",
    "%matplotlib inline\n",
    "import seaborn as sns\n",
    "sns.set_context('talk')\n",
    "sns.set_style('white')"
   ]
  },
  {
   "cell_type": "code",
   "execution_count": null,
   "id": "american-regular",
   "metadata": {},
   "outputs": [],
   "source": [
    "# directory & file hierarchy\n",
    "proj_dir = os.path.abspath('..')\n",
    "analysis_dir = os.getcwd()\n",
    "results_dir = os.path.join(proj_dir,'results')\n",
    "csv_dir = os.path.join(results_dir,'csv')"
   ]
  },
  {
   "cell_type": "code",
   "execution_count": null,
   "id": "applied-burlington",
   "metadata": {},
   "outputs": [],
   "source": [
    "K = pd.read_csv(os.path.join(csv_dir, 'photodraw2x2_sketch_data.csv'))\n",
    "K = K.sort_values(['gameID', 'category'])"
   ]
  },
  {
   "cell_type": "markdown",
   "id": "recovered-possession",
   "metadata": {},
   "source": [
    "### establish connection to mongo\n",
    "\n",
    "`ssh -fNL 27020:127.0.0.1:27017 jyang@cogtoolslab.org`  \n",
    "`ssh -fNL 27017:127.0.0.1:27017 jyang@cogtoolslab.org`"
   ]
  },
  {
   "cell_type": "code",
   "execution_count": null,
   "id": "conscious-miracle",
   "metadata": {},
   "outputs": [],
   "source": [
    "reallyRun = False\n",
    "if reallyRun:\n",
    "    # set vars \n",
    "\n",
    "    # this auth.txt file contains the password for the sketchloop user\n",
    "    auth = pd.read_csv(os.path.join(analysis_dir,'auth.txt'), header = None) \n",
    "    pswd = auth.values[0][0]\n",
    "    decoderpswd = int(pswd[-1])\n",
    "    user = 'sketchloop'\n",
    "    host = 'cogtoolslab.org'\n",
    "\n",
    "    # have to fix this to be able to analyze from local\n",
    "    import socket\n",
    "    if socket.gethostname().split('_')[0]=='Justin':\n",
    "        conn = pm.MongoClient('mongodb://sketchloop:' + pswd + '@127.0.0.1:27020')\n",
    "    else:\n",
    "        conn = pm.MongoClient('mongodb://sketchloop:' + pswd + '@127.0.0.1:27017')\n",
    "    db = conn['photodraw']\n",
    "    coll_cat = db['recogdraw-category']\n",
    "    coll_inst = db['recogdraw-instance']\n",
    "\n",
    "    iterationName = 'run0'"
   ]
  },
  {
   "cell_type": "code",
   "execution_count": null,
   "id": "eleven-farmer",
   "metadata": {},
   "outputs": [],
   "source": [
    "if reallyRun:\n",
    "    K_responses_cat = coll_cat.find({'iterationName':'run0', 'eventType': 'trial'})\n",
    "    K_responses_inst = coll_inst.find({'iterationName':'run0', 'eventType': 'trial'})\n",
    "\n",
    "    K_responses_cat = pd.DataFrame(K_responses_cat)\n",
    "    K_responses_inst = pd.DataFrame(K_responses_inst)\n",
    "\n",
    "    K_responses_cat['rt'] = K_responses_cat.rt - 500 # delay before being able to select\n",
    "    K_responses_inst['rt'] = K_responses_inst.rt - 1000 # delay before being able to select\n",
    "    \n",
    "    \n",
    "    K_responses_cat['rt_log'] = np.log(K_responses_cat['rt'])\n",
    "    cutoff = K_responses_cat['rt_log'].std() * 3 + K_responses_cat['rt_log'].mean()\n",
    "    K_responses_cat['isOutlier'] = K_responses_cat['rt_log'] > cutoff\n",
    "\n",
    "    K_responses_inst['rt_log'] = np.log(K_responses_inst['rt'])\n",
    "    cutoff = K_responses_inst['rt_log'].std() * 3 + K_responses_inst['rt_log'].mean()\n",
    "    K_responses_inst['isOutlier'] = K_responses_inst['rt_log'] > cutoff"
   ]
  },
  {
   "cell_type": "code",
   "execution_count": null,
   "id": "loved-denmark",
   "metadata": {},
   "outputs": [],
   "source": [
    "## save out CSVs\n",
    "reallyRun = False\n",
    "if reallyRun:\n",
    "    K_responses_cat.to_csv(os.path.join(csv_dir, 'photodraw2x2_category_recog_ratings.csv'), index=False)\n",
    "    K_responses_inst.to_csv(os.path.join(csv_dir, 'photodraw2x2_instance_recog_ratings.csv'), index=False)\n",
    "else:\n",
    "    K_responses_cat = pd.read_csv(os.path.join(csv_dir, 'photodraw2x2_category_recog_ratings.csv'))\n",
    "    K_responses_inst = pd.read_csv(os.path.join(csv_dir, 'photodraw2x2_instance_recog_ratings.csv'))"
   ]
  },
  {
   "cell_type": "code",
   "execution_count": null,
   "id": "lesser-lexington",
   "metadata": {},
   "outputs": [],
   "source": [
    "# extract survey responses & save out CSVs\n",
    "reallyRun = False\n",
    "if reallyRun:\n",
    "    K_responses_cat_survey = coll_cat.find({'iterationName':'run0', 'eventType': 'survey'})\n",
    "    K_responses_inst_survey = coll_inst.find({'iterationName':'run0', 'eventType': 'survey'})\n",
    "    K_responses_cat_survey = pd.DataFrame(K_responses_cat_survey)\n",
    "    K_responses_inst_survey = pd.DataFrame(K_responses_inst_survey)\n",
    "\n",
    "\n",
    "    K_responses_inst_survey_text = \\\n",
    "        K_responses_inst_survey[K_responses_inst_survey.choice_or_text == 'text']  \\\n",
    "            .sort_values(by='gameID') \\\n",
    "            .drop(columns=['prolificID'])\n",
    "\n",
    "    K_responses_inst_survey_text[['participantSex', 'inputDevice']] = \\\n",
    "        K_responses_inst_survey[K_responses_inst_survey.choice_or_text != 'text']  \\\n",
    "            .sort_values(by='gameID') \\\n",
    "            .drop(columns=['prolificID'])[['participantSex', 'inputDevice']].values\n",
    "\n",
    "    K_responses_cat_survey_text = \\\n",
    "        K_responses_cat_survey[K_responses_cat_survey.choice_or_text == 'text']  \\\n",
    "            .sort_values(by='gameID') \\\n",
    "            .drop(columns=['prolificID'])\n",
    "\n",
    "    K_responses_cat_survey_text[['participantSex', 'inputDevice']] = \\\n",
    "        K_responses_cat_survey[K_responses_cat_survey.choice_or_text != 'text']  \\\n",
    "            .sort_values(by='gameID') \\\n",
    "            .drop(columns=['prolificID'])[['participantSex', 'inputDevice']].values\n",
    "    K_responses_inst_survey = K_responses_inst_survey_text\n",
    "    K_responses_cat_survey = K_responses_cat_survey_text\n",
    "    \n",
    "    # take out unnecessary columns\n",
    "    K_responses_cat_survey = K_responses_cat_survey.drop(\n",
    "                            columns=['randomize_question_order', 'type', 'preamble', 'questions', \n",
    "                                     'button_label','choice_or_text', 'responses', 'question_order', 'trial_type',\n",
    "                                     'trial_index', 'internal_node_id'])\n",
    "    \n",
    "    K_responses_cat_survey.to_csv(os.path.join(csv_dir, 'photodraw2x2_category_recog_survey.csv'), index=False)\n",
    "    K_responses_inst_survey.to_csv(os.path.join(csv_dir, 'photodraw2x2_instance_recog_survey.csv'), index=False)\n",
    "else:\n",
    "    K_responses_cat_survey = pd.read_csv(os.path.join(csv_dir, 'photodraw2x2_category_recog_survey.csv'))\n",
    "    K_responses_inst_survey = pd.read_csv(os.path.join(csv_dir, 'photodraw2x2_instance_recog_survey.csv'))"
   ]
  },
  {
   "cell_type": "code",
   "execution_count": null,
   "id": "configured-capture",
   "metadata": {},
   "outputs": [],
   "source": [
    "print(K_responses_cat_survey.participantAge.mean())\n",
    "print(K_responses_cat_survey.participantSex.value_counts(), '\\n')\n",
    "\n",
    "print(K_responses_inst_survey.participantAge.mean())\n",
    "print(K_responses_inst_survey.participantSex.value_counts())"
   ]
  },
  {
   "cell_type": "markdown",
   "id": "cubic-translation",
   "metadata": {},
   "source": [
    "<br>\n",
    "\n",
    "### Save recognition data into main dataframe\n",
    "\n",
    "<br>"
   ]
  },
  {
   "cell_type": "code",
   "execution_count": null,
   "id": "competent-persian",
   "metadata": {},
   "outputs": [],
   "source": [
    "reallyRun = False\n",
    "if reallyRun:\n",
    "    \n",
    "    K_responses_cat_main = K_responses_cat[(K_responses_cat.catch_trial == False) & \n",
    "                                       (K_responses_cat.prep_trial  == False) &\n",
    "                                       (K_responses_cat.isOutlier   == False)  ]\n",
    "    K_responses_inst_main = K_responses_inst[(K_responses_inst.catch_trial == False) & \n",
    "                                             (K_responses_inst.prep_trial  == False) &\n",
    "                                             (K_responses_inst.isOutlier   == False)  ]\n",
    "    \n",
    "    groupdata = K_responses_cat_main.groupby(['sketcher_gameID', 'sketcher_category'])[['rt','isCorrect']]\n",
    "    assert (K[['gameID', 'category']].values == \\\n",
    "            groupdata.count().reset_index().sort_values(['sketcher_gameID','sketcher_category']\n",
    "                                               )[['sketcher_gameID','sketcher_category']].values).all()\n",
    "\n",
    "    K[['cat_rt_mean', 'cat_correct_mean']] = groupdata.mean().reset_index().sort_values(\n",
    "                            ['sketcher_gameID','sketcher_category'])[['rt', 'isCorrect']]\n",
    "    K[['cat_rt_sd', 'cat_correct_sd']] = groupdata.std().reset_index().sort_values(\n",
    "                            ['sketcher_gameID','sketcher_category'])[['rt', 'isCorrect']]\n",
    "    K['cat_numRaters'] = groupdata.count().reset_index().sort_values(\n",
    "                            ['sketcher_gameID','sketcher_category'])['rt']"
   ]
  },
  {
   "cell_type": "code",
   "execution_count": null,
   "id": "gorgeous-puzzle",
   "metadata": {},
   "outputs": [],
   "source": [
    "reallyRun = False\n",
    "if reallyRun:\n",
    "    groupdata = K_responses_inst_main.groupby(['sketcher_gameID', 'sketcher_category'])[['rt','isCorrect']]\n",
    "    assert (K[K.condition == 'photo'][['gameID', 'category']].values == \\\n",
    "            groupdata.count().reset_index().sort_values(['sketcher_gameID','sketcher_category']\n",
    "                                               )[['sketcher_gameID','sketcher_category']].values).all()\n",
    "\n",
    "    instmean = groupdata.mean().reset_index().sort_values(['sketcher_gameID','sketcher_category'])\n",
    "    instmean = instmean.set_index(['sketcher_gameID','sketcher_category']).to_dict()\n",
    "    K['inst_rt_mean'] = K.set_index(['gameID', 'category']).index.map(instmean['rt'])\n",
    "    K['inst_correct_mean'] = K.set_index(['gameID', 'category']).index.map(instmean['isCorrect'])\n",
    "\n",
    "    instsd = groupdata.std().reset_index().sort_values(['sketcher_gameID','sketcher_category'])\n",
    "    instsd = instsd.set_index(['sketcher_gameID','sketcher_category']).to_dict()\n",
    "    K['inst_rt_sd'] = K.set_index(['gameID', 'category']).index.map(instsd['rt'])\n",
    "    K['inst_correct_sd'] = K.set_index(['gameID', 'category']).index.map(instsd['isCorrect'])\n",
    "\n",
    "    instcount = groupdata.count().reset_index().sort_values(['sketcher_gameID','sketcher_category'])\n",
    "    instcount = instcount.set_index(['sketcher_gameID','sketcher_category']).to_dict()\n",
    "    K['inst_numRaters'] = K.set_index(['gameID', 'category']).index.map(instcount['rt'])"
   ]
  },
  {
   "cell_type": "code",
   "execution_count": null,
   "id": "southern-wireless",
   "metadata": {},
   "outputs": [],
   "source": [
    "## save out CSV and sync to git\n",
    "reallyRun = False\n",
    "if reallyRun:\n",
    "    K = K.sort_values(by=['gameID', 'trialNum', 'condition', 'category', 'imageURL', 'goal']).reset_index(drop = True)\n",
    "    K.to_csv(os.path.join(csv_dir, 'photodraw2x2_sketch_data.csv'), index = False)\n",
    "else:\n",
    "    K = pd.read_csv(os.path.join(csv_dir, 'photodraw2x2_sketch_data.csv'))"
   ]
  },
  {
   "cell_type": "markdown",
   "id": "comparable-snapshot",
   "metadata": {},
   "source": [
    "# Analysis"
   ]
  },
  {
   "cell_type": "markdown",
   "id": "technological-window",
   "metadata": {},
   "source": [
    "### Basic barplots"
   ]
  },
  {
   "cell_type": "code",
   "execution_count": null,
   "id": "southeast-twist",
   "metadata": {},
   "outputs": [],
   "source": [
    "g = sns.catplot(\n",
    "    data=K[K['isOutlier'] == False], kind=\"bar\",\n",
    "    x=\"goal\", y=\"cat_rt_mean\", hue=\"condition\", palette=\"dark\", alpha=.7, height=5\n",
    ")\n",
    "g.despine(left=True)\n",
    "g.set_axis_labels(\"\", \"Reaction time (ms)\")\n",
    "plt.title('Category-level reaction time per sketch (recognition task)');\n",
    "\n",
    "g = sns.catplot(\n",
    "    data=K[K['isOutlier'] == False], kind=\"bar\",\n",
    "    x=\"goal\", y=\"cat_correct_mean\", hue=\"condition\", palette=\"dark\", alpha=.7, height=5\n",
    ")\n",
    "g.despine(left=True)\n",
    "g.set_axis_labels(\"\", \"Recognizer accuracy\")\n",
    "plt.title('Category recognizer accuracy per sketch (recognition task)');\n",
    "\n",
    "g = sns.catplot(\n",
    "    data=K[K['isOutlier'] == False], kind=\"bar\",\n",
    "    x=\"goal\", y=\"prob_true_predict_fc6\", hue=\"condition\", palette=\"dark\", alpha=.7, height=5\n",
    ")\n",
    "g.despine(left=True)\n",
    "g.set_axis_labels(\"\", \"probability\")\n",
    "plt.title('Probability of correct classification (fc6)');"
   ]
  },
  {
   "cell_type": "code",
   "execution_count": null,
   "id": "pregnant-bracket",
   "metadata": {
    "scrolled": true
   },
   "outputs": [],
   "source": [
    "g = sns.catplot(\n",
    "    data=K[K['isOutlier'] == False], kind=\"bar\",\n",
    "    x=\"goal\", y=\"prob_true_predict_instance\", hue=\"condition\", palette=\"dark\", alpha=.7, height=5\n",
    ")\n",
    "g.despine(left=True)\n",
    "g.set_axis_labels(\"\", \"probability\")\n",
    "plt.title('Probability of correct classification (instance)');\n",
    "\n",
    "g = sns.catplot(\n",
    "    data=K[K['isOutlier'] == False], kind=\"bar\",\n",
    "    x=\"goal\", y=\"inst_correct_mean\", hue=\"condition\", palette=\"dark\", alpha=.7, height=5\n",
    ")\n",
    "g.despine(left=True)\n",
    "g.set_axis_labels(\"\", \"Recognizer accuracy\")\n",
    "plt.title('Instance recognizer accuracy per sketch (recognition task)');\n",
    "\n",
    "g = sns.catplot(\n",
    "    data=K[K['isOutlier'] == False], kind=\"bar\",\n",
    "    x=\"goal\", y=\"inst_rt_mean\", hue=\"condition\", palette=\"dark\", alpha=.7, height=5\n",
    ")\n",
    "g.despine(left=True)\n",
    "g.set_axis_labels(\"\", \"rt (ms)\")\n",
    "plt.title('Reaction time of instance recognizers');"
   ]
  },
  {
   "cell_type": "code",
   "execution_count": null,
   "id": "resistant-gentleman",
   "metadata": {
    "scrolled": true
   },
   "outputs": [],
   "source": [
    "sns.histplot(K_responses_cat['rt_log'])"
   ]
  },
  {
   "cell_type": "code",
   "execution_count": null,
   "id": "efficient-employee",
   "metadata": {},
   "outputs": [],
   "source": [
    "corrperc = np.zeros((50, 2))\n",
    "for i in range(50):\n",
    "    cat_rt_cutoff = K_responses_cat.rt.median() * i\n",
    "    corrperc[i] = [i, sum(K_responses_cat.rt > cat_rt_cutoff)]\n",
    "fig, (ax1, ax2) = plt.subplots(1, 2, figsize=(10,4))\n",
    "ax1.plot(corrperc[:, 0], corrperc[:,1])\n",
    "ax1.set(xlabel='Multiples of RT above median', ylabel = 'Number of trials', title='Number of trials above RT cutoff')\n",
    "corrperc = np.zeros((50, 2))\n",
    "for i in range(50):\n",
    "    cat_rt_cutoff = K_responses_cat.rt.median() * i\n",
    "    corrperc[i] = [i, K_responses_cat[K_responses_cat.rt > cat_rt_cutoff].isCorrect.mean()]\n",
    "ax2.plot(corrperc[:, 0], corrperc[:,1])\n",
    "ax2.set(xlabel='Multiples of RT above median', ylabel='Accuracy', title='Accuracy of responses above RT cutoff')\n",
    "plt.tight_layout()"
   ]
  }
 ],
 "metadata": {
  "kernelspec": {
   "display_name": "Python 3",
   "language": "python",
   "name": "python3"
  },
  "language_info": {
   "codemirror_mode": {
    "name": "ipython",
    "version": 3
   },
   "file_extension": ".py",
   "mimetype": "text/x-python",
   "name": "python",
   "nbconvert_exporter": "python",
   "pygments_lexer": "ipython3",
   "version": "3.7.7"
  }
 },
 "nbformat": 4,
 "nbformat_minor": 5
}
