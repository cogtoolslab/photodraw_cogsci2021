{
 "cells": [
  {
   "cell_type": "code",
   "execution_count": null,
   "metadata": {},
   "outputs": [],
   "source": [
    "import os\n",
    "import sys\n",
    "import shutil\n",
    "import pandas as pd\n",
    "import socket\n",
    "import json\n",
    "import numpy as np\n",
    "import base64\n",
    "import time\n",
    "from io import BytesIO\n",
    "from scipy.spatial.distance import pdist, squareform\n",
    "from itertools import combinations \n",
    "import scipy as sp\n",
    "from tqdm import tqdm\n",
    "\n",
    "\n",
    "import matplotlib.pyplot as plt\n",
    "%matplotlib inline\n",
    "import seaborn as sns\n",
    "\n",
    "sns.set(style=\"whitegrid\")"
   ]
  },
  {
   "cell_type": "code",
   "execution_count": null,
   "metadata": {},
   "outputs": [],
   "source": [
    "# directory & file hierarchy\n",
    "proj_dir = os.path.abspath('..')\n",
    "results_dir = os.path.join(proj_dir,'results')\n",
    "csv_dir = os.path.join(results_dir,'csv')\n",
    "feature_dir = os.path.abspath(os.path.join(proj_dir,'features'))\n",
    "    \n",
    "def make_dir_if_not_exists(dir_name):   \n",
    "    if not os.path.exists(dir_name):\n",
    "        os.makedirs(dir_name)\n",
    "    return dir_name\n",
    "\n",
    "## create directories that don't already exist        \n",
    "result = [make_dir_if_not_exists(x) for x in [results_dir,csv_dir,feature_dir]]"
   ]
  },
  {
   "cell_type": "markdown",
   "metadata": {},
   "source": [
    "### load in features and metadata"
   ]
  },
  {
   "cell_type": "code",
   "execution_count": null,
   "metadata": {},
   "outputs": [],
   "source": [
    "K = pd.read_csv(os.path.join(csv_dir, 'photodraw2x2_sketch_data.csv'))\n",
    "T = pd.read_csv(os.path.join(csv_dir, 'photodraw2x2_stroke_data.csv'))\n",
    "S = pd.read_csv(os.path.join(csv_dir, 'photodraw2x2_survey_data.csv'))\n",
    "\n",
    "S = S.reset_index(drop = True)\n",
    "F = np.load(os.path.join(feature_dir, f'FEATURES_FC6_photodraw2x2_sketch.npy'))\n",
    "Fi = np.load(os.path.join(feature_dir, f'photodraw2x2_instance_features.npy'))"
   ]
  },
  {
   "cell_type": "code",
   "execution_count": null,
   "metadata": {},
   "outputs": [],
   "source": [
    "K = K.sort_values(by='feature_ind')\n",
    "KF = pd.concat([pd.DataFrame(F), K], axis=1)\n",
    "KF.sort_values(by=['goal', 'condition', 'category'], ascending = True, inplace = True)\n",
    "\n",
    "K = K.sort_values(by='feature_ind_instance')\n",
    "KFi = pd.concat([pd.DataFrame(Fi), K], axis=1)\n",
    "KFi.sort_values(by=['goal', 'condition', 'category'], ascending = True, inplace = True)\n",
    "\n",
    "category_means = []\n",
    "for name, group in KF.groupby(['goal', 'condition', 'category']):\n",
    "    if len(category_means)==0:\n",
    "        category_means = group[np.arange(4096)].mean(axis=0)\n",
    "    else:\n",
    "        category_means = np.vstack((category_means, group[np.arange(4096)].mean(axis=0)))\n",
    "        \n",
    "category_means_i = []\n",
    "for name, group in KFi.groupby(['goal', 'condition', 'category']):\n",
    "    if len(category_means_i)==0:\n",
    "        category_means_i = group[np.arange(1000)].mean(axis=0)\n",
    "    else:\n",
    "        category_means_i = np.vstack((category_means_i, group[np.arange(1000)].mean(axis=0)))"
   ]
  },
  {
   "cell_type": "markdown",
   "metadata": {},
   "source": [
    "### within category/experiment variance!"
   ]
  },
  {
   "cell_type": "code",
   "execution_count": null,
   "metadata": {},
   "outputs": [],
   "source": [
    "def high_dim_variance(X):\n",
    "    return sum(np.linalg.norm(x_i - x_j)**2 for x_i, x_j in combinations(X, 2)) / (len(X))**2\n",
    "\n",
    "K = K.sort_values(by='feature_ind')\n",
    "KF = pd.concat([pd.DataFrame(F), K], axis=1)\n",
    "KF.sort_values(by=['goal', 'condition', 'category'], ascending = True, inplace = True)\n",
    "\n",
    "K = K.sort_values(by='feature_ind_instance')\n",
    "KF = pd.concat([pd.DataFrame(Fi, columns = np.arange(4096, 4096 + 2048)), KF], axis=1)\n",
    "\n",
    "\n",
    "df = pd.DataFrame(columns = ['category', 'condition', 'goal', 'fc6_variance', 'inst_variance'])\n",
    "i = 0\n",
    "for ind, group in KF.groupby(['category', 'condition', 'goal']):\n",
    "    indx = list(ind)\n",
    "    indx.append(high_dim_variance(np.array(group[np.arange(4096)])))\n",
    "    indx.append(high_dim_variance(np.array(group[np.arange(4096, 4096 + 2048)])))\n",
    "    df.loc[i] = indx\n",
    "    i += 1\n",
    "    \n",
    "sns.barplot(data = df, x = 'condition', y = 'fc6_variance', hue = 'goal');\n",
    "plt.title('variance (fc6)!');\n",
    "plt.show()\n",
    "sns.barplot(data = df, x = 'condition', y = 'inst_variance', hue = 'goal');\n",
    "plt.title('variance (instance)!');\n",
    "plt.show()"
   ]
  },
  {
   "cell_type": "code",
   "execution_count": null,
   "metadata": {},
   "outputs": [],
   "source": [
    "df = pd.read_csv(os.path.join(csv_dir, 'photodraw2x2_category_by_experiment_variances.csv'))\n",
    "df.groupby(['condition', 'goal'])['fc6_variance'].mean()"
   ]
  },
  {
   "cell_type": "markdown",
   "metadata": {},
   "source": [
    "### Get gallery stims for cogsci 2021"
   ]
  },
  {
   "cell_type": "code",
   "execution_count": null,
   "metadata": {},
   "outputs": [],
   "source": [
    "gall_path_2x2 = make_dir_if_not_exists(os.path.abspath('../../photodraw_latex/cogsci2021/photodraw32_gallery_examples'))\n",
    "cat = 'butterfly'\n",
    "fn = lambda obj: obj.loc[np.random.choice(obj.index),:]\n",
    "\n",
    "group = K[(K.category == cat) & (K.condition == 'photo')]\n",
    "lows = sorted(group['inst_typicality'].unique())[:3]\n",
    "highs = sorted(group['inst_typicality'].unique())[-3:]\n",
    "\n",
    "lowURLs  = group[group.inst_typicality.isin(lows)].groupby('imageURL', as_index = False).\\\n",
    "                                                                        apply(fn).sample(3).imageURL.values\n",
    "highURLs = group[group.inst_typicality.isin(highs)].groupby('imageURL', as_index = False).\\\n",
    "                                                                        apply(fn).sample(3).imageURL.values\n",
    "\n",
    "for i, g in K[K.category == cat].groupby('experiment'):\n",
    "    path = make_dir_if_not_exists(os.path.join(gall_path_2x2, g.experiment.values[0]))\n",
    "    if all(g.condition == 'text'):\n",
    "        images = [Image.open(BytesIO(base64.b64decode(imgdata))).resize((224,224)) for \\\n",
    "                                                                  imgdata in g.pngData.sample(6).values]\n",
    "        [im.save(os.path.join(path, f\"{g.experiment.values[0]}_{cat}_{i}.png\")) for i, im in enumerate(images)]\n",
    "        \n",
    "    else:\n",
    "        atyp = g[g.imageURL.isin(lowURLs)]\n",
    "        typ = g[g.imageURL.isin(highURLs)]\n",
    "        atyp = atyp.groupby('imageURL', as_index = False).apply(fn).sample(3)\n",
    "        typ = typ.groupby('imageURL', as_index = False).apply(fn).sample(3)\n",
    "        \n",
    "        images_atyp, at = atyp.pngData.values, atyp.imageURL.values\n",
    "        images_typ, t  = typ.pngData.values, typ.imageURL.values\n",
    "        \n",
    "        images_atyp = [Image.open(BytesIO(base64.b64decode(imgdata))).resize((224,224)) for imgdata in images_atyp]\n",
    "        images_typ  = [Image.open(BytesIO(base64.b64decode(imgdata))).resize((224,224)) for imgdata in images_typ]\n",
    "\n",
    "        [im.save(os.path.join(path, f\"{g.experiment.values[0]}_{cat}_atypical_{i}.png\")) \\\n",
    "                                                                                 for i, im in zip(at, images_atyp)]\n",
    "        [im.save(os.path.join(path, f\"{g.experiment.values[0]}_{cat}_typical_{i}.png\"))  \\\n",
    "                                                                                 for i, im in zip(t, images_typ)]\n",
    "        \n",
    "        stims_path_atyp = [os.path.abspath(os.path.join(proj_dir, f'stimuli/photodraw32_stims_copy/{cat}_{url}.png'))\\\n",
    "                                                                       for url in atyp.imageURL]\n",
    "        stims_path_typ  = [os.path.abspath(os.path.join(proj_dir, f'stimuli/photodraw32_stims_copy/{cat}_{url}.png'))\\\n",
    "                                                                       for url in typ.imageURL]\n",
    "        \n",
    "        [shutil.copyfile(src, os.path.join(path, src.split('\\\\')[-1])) for src in stims_path_atyp]\n",
    "        [shutil.copyfile(src, os.path.join(path, src.split('\\\\')[-1])) for src in stims_path_typ]\n"
   ]
  }
 ],
 "metadata": {
  "kernelspec": {
   "display_name": "Python 3",
   "language": "python",
   "name": "python3"
  },
  "language_info": {
   "codemirror_mode": {
    "name": "ipython",
    "version": 3
   },
   "file_extension": ".py",
   "mimetype": "text/x-python",
   "name": "python",
   "nbconvert_exporter": "python",
   "pygments_lexer": "ipython3",
   "version": "3.7.7"
  }
 },
 "nbformat": 4,
 "nbformat_minor": 4
}
