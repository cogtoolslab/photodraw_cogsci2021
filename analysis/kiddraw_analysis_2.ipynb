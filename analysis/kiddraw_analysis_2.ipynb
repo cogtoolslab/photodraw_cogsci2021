{
 "cells": [
  {
   "cell_type": "markdown",
   "metadata": {},
   "source": [
    "### Import packages and set up paths"
   ]
  },
  {
   "cell_type": "code",
   "execution_count": null,
   "metadata": {},
   "outputs": [],
   "source": [
    "import os\n",
    "import re\n",
    "import socket\n",
    "import numpy as np\n",
    "import pandas as pd\n",
    "\n",
    "import scipy.stats as stats\n",
    "from scipy.spatial import distance as dist\n",
    "from scipy.spatial.distance import pdist\n",
    "from sklearn import preprocessing\n",
    "from scipy.stats import f\n",
    "\n",
    "import matplotlib\n",
    "from matplotlib import pyplot\n",
    "%matplotlib inline\n",
    "from IPython.core.pylabtools import figsize\n",
    "plt = pyplot\n",
    "import seaborn as sns\n",
    "sns.set_context('talk')\n",
    "sns.set_style('white')\n",
    "\n",
    "\n",
    "from utils import feature_heatmap, compute_f_stat, between_condition_RDM, photoid_sd_barplots, photoid_sd_distplots, generate_acc_probs\n",
    "from classdata import Data\n",
    "\n",
    "import warnings\n",
    "warnings.filterwarnings(\"ignore\", category=DeprecationWarning)\n",
    "warnings.filterwarnings(\"ignore\", category=FutureWarning)\n",
    "warnings.filterwarnings(\"ignore\", category=matplotlib.cbook.mplDeprecation)\n",
    "warnings.filterwarnings(\"ignore\", message=\"numpy.dtype size changed\")\n",
    "warnings.filterwarnings(\"ignore\", message=\"numpy.ufunc size changed\")"
   ]
  },
  {
   "cell_type": "code",
   "execution_count": null,
   "metadata": {},
   "outputs": [],
   "source": [
    "# directory & file hierarchy\n",
    "proj_dir = os.path.abspath('..')\n",
    "analysis_dir = os.getcwd()\n",
    "results_dir = os.path.join(proj_dir,'results')\n",
    "csv_dir = os.path.join(results_dir,'csv')\n",
    "exp_dir = os.path.abspath(os.path.join(proj_dir,'experiments'))\n",
    "if socket.gethostname() == 'nightingale':\n",
    "    feature_dir = os.path.abspath('/mnt/pentagon/photodraw/features/')\n",
    "else:\n",
    "    feature_dir = os.path.abspath(os.path.join(proj_dir,'features', 'photodraw12'))\n",
    "    \n",
    "image_path = os.path.abspath(os.path.join(feature_dir, 'flattened_sketches_pixels.npy'))\n",
    "image_path_fc6 = os.path.abspath(os.path.join(feature_dir, 'FEATURES_FC6_photodraw_sketch.npy'))\n",
    "\n",
    "def make_dir_if_not_exists(dir_name):   \n",
    "    if not os.path.exists(dir_name):\n",
    "        os.makedirs(dir_name)\n",
    "    return dir_name\n",
    "\n",
    "## create directories that don't already exist        \n",
    "result = [make_dir_if_not_exists(x) for x in [results_dir,csv_dir,feature_dir]]"
   ]
  },
  {
   "cell_type": "markdown",
   "metadata": {},
   "source": [
    "### Read in data, create preprocessing functions"
   ]
  },
  {
   "cell_type": "code",
   "execution_count": null,
   "metadata": {
    "scrolled": true
   },
   "outputs": [],
   "source": [
    "# read in data\n",
    "T = pd.read_csv(os.path.join(csv_dir,'photodraw_stroke_data.csv'))\n",
    "K = pd.read_csv(os.path.join(csv_dir,'photodraw_sketch_data.csv'))\n",
    "S = pd.read_csv(os.path.join(csv_dir,'photodraw_survey_data.csv'))\n",
    "F = np.load(image_path)\n",
    "F_fc6 = np.load(image_path_fc6)"
   ]
  },
  {
   "cell_type": "code",
   "execution_count": null,
   "metadata": {},
   "outputs": [],
   "source": [
    "# remove images flagged as invalid or outliers\n",
    "def remove_invalid(frame):\n",
    "    return frame[frame.isInvalid == False]\n",
    "def remove_flagged(frame):\n",
    "    return frame[(frame.isOutlier == False) & (frame.isInvalid==False)]\n",
    "def remove_invalid_T(T):\n",
    "    thinghthing = K[K.isInvalid==True][['gameID','trialNum']].values\n",
    "    return T[(~T.gameID.isin(thinghthing[:][0])) & (~T.trialNum.isin(thinghthing[:][1]))]\n",
    "def remove_flagged_T(T):\n",
    "    thinghthing = K[(K.isOutlier==True) | (K.isInvalid==True)][['gameID','trialNum']].values\n",
    "    return T[(~T.gameID.isin(thinghthing[:][0])) & (~T.trialNum.isin(thinghthing[:][1]))]"
   ]
  },
  {
   "cell_type": "code",
   "execution_count": null,
   "metadata": {},
   "outputs": [],
   "source": [
    "## do we really want to remove invalid trials and outlier trials?\n",
    "remove_flagged = {'invalid' : True,\n",
    "                  'outlier' : True}\n",
    "normalize_mean = True\n",
    "normalize_std = False\n",
    "\n",
    "data = Data(K, F, F_fc6)\n",
    "\n",
    "data.filter_out(remove_flagged)\n",
    "# perform sanity checks to see if \n",
    "Ksanity = pd.read_csv(os.path.join(csv_dir,'photodraw_sketch_data.csv'))\n",
    "assert np.sum(data.metadata.isInvalid) == 0 if remove_flagged['invalid'] else np.sum(data.metadata.isInvalid) == np.sum(Ksanity.isInvalid)\n",
    "assert np.sum(data.metadata.isOutlier) == 0 if remove_flagged['outlier'] else np.sum(data.metadata.isOutlier) == np.sum(Ksanity.isOutlier)\n",
    "\n",
    "data.preprocess(mean = normalize_mean, std = normalize_std)"
   ]
  },
  {
   "cell_type": "markdown",
   "metadata": {},
   "source": [
    "## Analyses I: Variation-based observations"
   ]
  },
  {
   "cell_type": "markdown",
   "metadata": {},
   "source": [
    "### Comparing within-category variation across conditions  "
   ]
  },
  {
   "cell_type": "code",
   "execution_count": null,
   "metadata": {},
   "outputs": [],
   "source": [
    "photoid_sd_barplots(data.metadata, 'totalInk', 'total ink')\n",
    "plt.legend(loc='center left', bbox_to_anchor=(1, 0.5));\n",
    "# 1, 2, and 3 represent the three photo stimuli"
   ]
  },
  {
   "cell_type": "code",
   "execution_count": null,
   "metadata": {},
   "outputs": [],
   "source": [
    "photoid_sd_barplots(data.metadata, 'activeSketchTime', 'active sketch time')\n",
    "plt.legend(loc='center left', bbox_to_anchor=(1, 0.5));"
   ]
  },
  {
   "cell_type": "code",
   "execution_count": null,
   "metadata": {},
   "outputs": [],
   "source": [
    "photoid_sd_barplots(data.metadata, 'numStrokes', 'number of strokes')\n",
    "plt.legend(loc='center left', bbox_to_anchor=(1, 0.5));"
   ]
  },
  {
   "cell_type": "code",
   "execution_count": null,
   "metadata": {},
   "outputs": [],
   "source": [
    "photoid_sd_distplots(data.metadata,'totalInk', 'total ink used')"
   ]
  },
  {
   "cell_type": "code",
   "execution_count": null,
   "metadata": {},
   "outputs": [],
   "source": [
    "photoid_sd_distplots(data.metadata,'activeSketchTime', 'active sketch time')"
   ]
  },
  {
   "cell_type": "code",
   "execution_count": null,
   "metadata": {},
   "outputs": [],
   "source": [
    "photoid_sd_distplots(data.metadata,'numStrokes', 'number of strokes')"
   ]
  },
  {
   "cell_type": "code",
   "execution_count": null,
   "metadata": {
    "scrolled": true
   },
   "outputs": [],
   "source": [
    "# condfeatures: makes two lists of the pixel-level features of each condition (photo, text)\n",
    "condfeatures = [data.pixels[data.metadata[data.metadata['condition']==condition].index] for condition in ['photo','text']]\n",
    "# compute pairwise distances across the pixels of all sketches in the two cues\n",
    "photo_sims = pdist(condfeatures[0])\n",
    "text_sims = pdist(condfeatures[1])\n",
    "\n",
    "sns.distplot(photo_sims, hist=False,label='photo')\n",
    "sns.distplot(text_sims, hist=False,label='text')\n",
    "plt.xlabel('euclidean distances') \n",
    "plt.ylabel('density')\n",
    "plt.title('Distibution of pariwise distances over category')\n",
    "plt.legend()\n",
    "plt.show()"
   ]
  },
  {
   "cell_type": "code",
   "execution_count": null,
   "metadata": {},
   "outputs": [],
   "source": [
    "# get dictionary that maps category-photoid pairs to their respective set of indices in F and M \n",
    "indexmap = data.metadata.groupby(['category','photoid']).apply(lambda x: x.index.tolist()).to_dict()\n",
    "\n",
    "# get mean and standard deviation of pairwise distance sketches in each category-photoid pair, also mean pixel features\n",
    "pixel_dists_frame = pd.DataFrame(columns=['category','photoid','cue_id','mean_dist','std_dist','mean_feature'])\n",
    "for index,key in enumerate(indexmap.keys()):\n",
    "    pixel_dists_frame.loc[index] = [key[0], \n",
    "                                    key[1], \n",
    "                                    key[0] + '_' + key[1],\n",
    "                                    pdist(data.pixels[indexmap[key]]).mean(), \n",
    "                                    pdist(data.pixels[indexmap[key]]).std(), \n",
    "                                    data.pixels[indexmap[key]].mean(axis=0)]\n",
    "    \n",
    "# adding condition saves headaches down the line\n",
    "pixel_dists_frame = pixel_dists_frame.assign(condition = (['photo']*3 + ['text']) * 12)\n",
    "\n",
    "# get dictionary that maps category-photoid pairs to their respective set of indices in F and M for fc6 features \n",
    "indexmap_fc6 = data.metadata.groupby(['category','photoid']).apply(lambda x: x.index.tolist()).to_dict()\n",
    "\n",
    "# get mean and standard deviation of pairwise distance sketches in each category-photoid pair, also mean fc6 features\n",
    "pixel_dists_frame_fc6 = pd.DataFrame(columns=['category','photoid','cue_id','mean_dist','std_dist','mean_feature'])\n",
    "for index,key in enumerate(indexmap_fc6.keys()):\n",
    "    pixel_dists_frame_fc6.loc[index] = [key[0],\n",
    "                                        key[1],\n",
    "                                        key[0] + '_' + key[1],\n",
    "                                        pdist(data.fc6[indexmap_fc6[key]]).mean(),\n",
    "                                        pdist(data.fc6[indexmap_fc6[key]]).std(), \n",
    "                                        data.fc6[indexmap_fc6[key]].mean(axis=0)]\n",
    "    \n",
    "# adding condition saves headaches down the line\n",
    "pixel_dists_frame_fc6 = pixel_dists_frame_fc6.assign(condition = (['photo']*3 + ['text']) * 12)"
   ]
  },
  {
   "cell_type": "code",
   "execution_count": null,
   "metadata": {},
   "outputs": [],
   "source": [
    "plt.figure(figsize=(8,6))\n",
    "sns.distplot(pixel_dists_frame[pixel_dists_frame.condition == 'photo'].mean_dist.values, label = 'photo')\n",
    "sns.distplot(pixel_dists_frame[pixel_dists_frame.condition == 'text'].mean_dist.values, label = 'text')\n",
    "plt.xlabel('mean euclidean distance'), plt.ylabel('density'), plt.title('Average pairwise equclidean distance of photo-id vs text sketches').set_position([.5, 1.05])\n",
    "plt.legend();"
   ]
  },
  {
   "cell_type": "code",
   "execution_count": null,
   "metadata": {
    "scrolled": false
   },
   "outputs": [],
   "source": [
    "plt.figure(figsize=(8,6))\n",
    "sns.distplot(pixel_dists_frame[pixel_dists_frame.condition == 'photo'].std_dist.values, label = 'photo')\n",
    "sns.distplot(pixel_dists_frame[pixel_dists_frame.condition == 'text'].std_dist.values, label = 'text')\n",
    "plt.xlabel('standard deviation pairwise euclidean distance'), plt.ylabel('density'),plt.title('Standard deviation of pairwise equclidean distance of photo-id vs text sketches').set_position([.5, 1.05])\n",
    "plt.legend();"
   ]
  },
  {
   "cell_type": "code",
   "execution_count": null,
   "metadata": {},
   "outputs": [],
   "source": [
    "plt.figure(figsize=(14,6))\n",
    "sns.barplot(data=pixel_dists_frame, x='category',y='mean_dist',hue='photoid')\n",
    "plt.ylabel('mean pairwise distance'), plt.title('Mean pairwise euclidean distance within each cue-category pair');\n",
    "plt.legend(loc='center left', bbox_to_anchor=(1, 0.5));"
   ]
  },
  {
   "cell_type": "code",
   "execution_count": null,
   "metadata": {},
   "outputs": [],
   "source": [
    "plt.figure(figsize=(14,6))\n",
    "sns.barplot(data=pixel_dists_frame, x='category',y='std_dist',hue='photoid')\n",
    "plt.ylabel('standard deviation pairwise distance'), plt.title('Std. dev of pairwise euclidean distance within each cue-category pair');\n",
    "plt.legend(loc='center left', bbox_to_anchor=(1, 0.5));"
   ]
  },
  {
   "cell_type": "code",
   "execution_count": null,
   "metadata": {},
   "outputs": [],
   "source": [
    "plt.figure(figsize=(9,6))\n",
    "sns.barplot(data=pixel_dists_frame, x='condition',y='std_dist')\n",
    "plt.ylabel('standard deviation pairwise distance'), plt.title('Standard deviation pairwise euclidean distance across condition').set_position([.5, 1.05]);"
   ]
  },
  {
   "cell_type": "code",
   "execution_count": null,
   "metadata": {
    "scrolled": false
   },
   "outputs": [],
   "source": [
    "plt.figure(figsize=(9,6))\n",
    "sns.barplot(data=pixel_dists_frame, x='condition',y='mean_dist')\n",
    "plt.ylabel('mean pairwise distance'), plt.title('Mean pairwise euclidean distance across condition').set_position([.5, 1.05]);"
   ]
  },
  {
   "cell_type": "code",
   "execution_count": null,
   "metadata": {},
   "outputs": [],
   "source": [
    "# condfeatures: makes two lists of the pixel-level features of each condition (photo, text)\n",
    "condfeatures_fc6 = [data.fc6[data.metadata[data.metadata['condition'] == condition].index] for condition in ['photo','text']]\n",
    "\n",
    "# compute pairwise distances across the pixels of all sketches in the two cues\n",
    "photo_sims_fc6 = pdist(condfeatures_fc6[0])\n",
    "text_sims_fc6 = pdist(condfeatures_fc6[1])\n",
    "\n",
    "plt.figure(figsize=(8,6))\n",
    "sns.distplot(photo_sims_fc6, hist=False, label='photo')\n",
    "sns.distplot(text_sims_fc6, hist=False, label='text')\n",
    "plt.xlabel('euclidean distances'), plt.ylabel('density'), plt.title('Distibution of pairwise distances over category').set_position([.5, 1.05])\n",
    "plt.legend();"
   ]
  },
  {
   "cell_type": "code",
   "execution_count": null,
   "metadata": {},
   "outputs": [],
   "source": [
    "plt.figure(figsize=(8,6))\n",
    "sns.distplot(pixel_dists_frame_fc6[pixel_dists_frame_fc6.photoid != 'text'].mean_dist.values, label = 'photo')\n",
    "sns.distplot(pixel_dists_frame_fc6[pixel_dists_frame_fc6.photoid == 'text'].mean_dist.values, label = 'text')\n",
    "plt.xlabel('mean euclidean distance'), plt.ylabel('density'), plt.title('Average pairwise euclidean distance of photo-id vs text sketches').set_position([.5, 1.05])\n",
    "plt.legend();"
   ]
  },
  {
   "cell_type": "code",
   "execution_count": null,
   "metadata": {},
   "outputs": [],
   "source": [
    "plt.figure(figsize=(8,6))\n",
    "sns.distplot(pixel_dists_frame_fc6[pixel_dists_frame_fc6.photoid != 'text'].std_dist.values, label = 'photo')\n",
    "sns.distplot(pixel_dists_frame_fc6[pixel_dists_frame_fc6.photoid == 'text'].std_dist.values, label = 'text')\n",
    "plt.xlabel('standard deviation pairwise euclidean distance'), plt.ylabel('density'), plt.title('Standard deviation of pairwise euclidean distance of photo-id vs text sketches')\n",
    "plt.legend();"
   ]
  },
  {
   "cell_type": "code",
   "execution_count": null,
   "metadata": {},
   "outputs": [],
   "source": [
    "plt.figure(figsize=(9,6))\n",
    "sns.barplot(data=pixel_dists_frame_fc6, x='condition',y='std_dist')\n",
    "plt.ylabel('std. pairwise distance'), plt.title('Standard deviation pairwise euclidean distance across condition').set_position([.5, 1.05]);"
   ]
  },
  {
   "cell_type": "code",
   "execution_count": null,
   "metadata": {},
   "outputs": [],
   "source": [
    "plt.figure(figsize=(9,6))\n",
    "sns.barplot(data=pixel_dists_frame_fc6, x='condition',y='mean_dist')\n",
    "plt.ylabel('mean pairwise distance'), plt.title('Mean pairwise euclidean distance across condition').set_position([.5, 1.05]);"
   ]
  },
  {
   "cell_type": "markdown",
   "metadata": {},
   "source": [
    "### Heatmaps for pixel-wise euclidean distance"
   ]
  },
  {
   "cell_type": "code",
   "execution_count": null,
   "metadata": {},
   "outputs": [],
   "source": [
    "plt.figure(figsize=(12,14))\n",
    "sns.barplot('mean_dist','cue_id', data=pixel_dists_frame)\n",
    "plt.xlabel('Mean within-class euclidean distance'), plt.ylabel('Cue id'), plt.title('Mean within-class euclidean distance of each cue id (pixel-wise)');"
   ]
  },
  {
   "cell_type": "code",
   "execution_count": null,
   "metadata": {},
   "outputs": [],
   "source": [
    "feature_heatmap(pixel_dists_frame, abstraction = 'pixel-level', metric='euclidean')"
   ]
  },
  {
   "cell_type": "code",
   "execution_count": null,
   "metadata": {},
   "outputs": [],
   "source": [
    "feature_heatmap(pixel_dists_frame, abstraction = 'pixel-level', metric='cosine')"
   ]
  },
  {
   "cell_type": "code",
   "execution_count": null,
   "metadata": {},
   "outputs": [],
   "source": [
    "feature_heatmap(pixel_dists_frame, abstraction = 'pixel-level', metric='correlation')"
   ]
  },
  {
   "cell_type": "markdown",
   "metadata": {},
   "source": [
    "### Heatmaps for feature-wise euclidean distance"
   ]
  },
  {
   "cell_type": "code",
   "execution_count": null,
   "metadata": {},
   "outputs": [],
   "source": [
    "plt.figure(figsize=(12,14))\n",
    "sns.barplot('mean_dist','cue_id', data=pixel_dists_frame_fc6)\n",
    "plt.xlabel('Mean within-class euclidean distance'), plt.ylabel('cue id'), plt.title('Mean within-class euclidean distance of each cue id (feature-wise)');"
   ]
  },
  {
   "cell_type": "code",
   "execution_count": null,
   "metadata": {},
   "outputs": [],
   "source": [
    "feature_heatmap(pixel_dists_frame_fc6, abstraction = 'feature-level', metric='euclidean')"
   ]
  },
  {
   "cell_type": "code",
   "execution_count": null,
   "metadata": {},
   "outputs": [],
   "source": [
    "feature_heatmap(pixel_dists_frame_fc6, abstraction = 'feature-level', metric='cosine')"
   ]
  },
  {
   "cell_type": "code",
   "execution_count": null,
   "metadata": {},
   "outputs": [],
   "source": [
    "feature_heatmap(pixel_dists_frame_fc6, abstraction = 'feature-level', metric='correlation')"
   ]
  },
  {
   "cell_type": "markdown",
   "metadata": {},
   "source": [
    "### F statistic analysis"
   ]
  },
  {
   "cell_type": "code",
   "execution_count": null,
   "metadata": {
    "scrolled": false
   },
   "outputs": [],
   "source": [
    "# compute f-statistics comparing across-category variance (e.g. horse vs cat) and variance within category (for photo-id)\n",
    "f_stat_pixels = compute_f_stat(pixel_dists_frame)\n",
    "f_stat_vgg19 = compute_f_stat(pixel_dists_frame_fc6)\n",
    "\n",
    "plt.figure(figsize=(8,5))\n",
    "\n",
    "# plot pdf of F-distribution with df1 = 11, df2 = 24\n",
    "x = np.linspace(0, 7, 100)\n",
    "plt.plot(x, f(11, 24).pdf(x), label=r'F-distribution, df$_1$ = 11, df$_2$= 24')\n",
    "\n",
    "# add computed f-statistics from the pixel-level and VGG-19 fc6 data\n",
    "plt.axvline(f_stat_pixels, color='orange', label='pixel-level features')\n",
    "plt.axvline(f_stat_vgg19, color='green', label='VGG 19 features')\n",
    "plt.legend(bbox_to_anchor=(1.05, 1.0), loc='upper left', prop={'size': 12})\n",
    "plt.xlabel('F'), plt.ylabel('Density'), plt.suptitle('Between-class variability vs within-class (photo-cue) variability');"
   ]
  },
  {
   "cell_type": "code",
   "execution_count": null,
   "metadata": {
    "scrolled": true
   },
   "outputs": [],
   "source": [
    "f(11, 24).interval(.90)[1]"
   ]
  },
  {
   "cell_type": "markdown",
   "metadata": {},
   "source": [
    "We see that between-category variability is large relative to within photo-id variability only in the VGG-19 features but not in pixel-level features, suggesting that category improves as a grouping variable when the grouping features are more abstract <br><br>"
   ]
  },
  {
   "cell_type": "markdown",
   "metadata": {},
   "source": [
    "### RDM matrices: text vs photo condition"
   ]
  },
  {
   "cell_type": "code",
   "execution_count": null,
   "metadata": {},
   "outputs": [],
   "source": [
    "between_condition_RDM(pixel_dists_frame, 'pixel-level', 'euclidean')"
   ]
  },
  {
   "cell_type": "code",
   "execution_count": null,
   "metadata": {},
   "outputs": [],
   "source": [
    "between_condition_RDM(pixel_dists_frame, 'pixel-level', 'cosine')"
   ]
  },
  {
   "cell_type": "code",
   "execution_count": null,
   "metadata": {},
   "outputs": [],
   "source": [
    "between_condition_RDM(pixel_dists_frame, 'pixel-level', 'correlation')"
   ]
  },
  {
   "cell_type": "code",
   "execution_count": null,
   "metadata": {},
   "outputs": [],
   "source": [
    "between_condition_RDM(pixel_dists_frame_fc6, 'feature-level', 'euclidean')"
   ]
  },
  {
   "cell_type": "code",
   "execution_count": null,
   "metadata": {},
   "outputs": [],
   "source": [
    "between_condition_RDM(pixel_dists_frame_fc6, 'feature-level', 'cosine')"
   ]
  },
  {
   "cell_type": "code",
   "execution_count": null,
   "metadata": {},
   "outputs": [],
   "source": [
    "between_condition_RDM(pixel_dists_frame_fc6, 'feature-level', 'correlation')"
   ]
  },
  {
   "cell_type": "markdown",
   "metadata": {},
   "source": [
    "### Are there any visible patterns among low-level data (detail metrics) between condition?"
   ]
  },
  {
   "cell_type": "code",
   "execution_count": null,
   "metadata": {},
   "outputs": [],
   "source": [
    "# create a dataframe that allows us to compare the lowest level data with the pixel-level and fc6 features\n",
    "low_level_frame = data.metadata.groupby(['category', 'condition', 'photoid'])[['numStrokes', 'activeSketchTime', 'totalInk']].aggregate(np.mean).reset_index()\n",
    "lowfeatures_norm = preprocessing.scale(low_level_frame[['numStrokes', 'activeSketchTime', 'totalInk']].values)\n",
    "lowfeatures_norm = [lowfeatures_norm[i] for i in range(len(lowfeatures_norm))]\n",
    "low_level_frame = low_level_frame.assign(mean_feature = lowfeatures_norm)"
   ]
  },
  {
   "cell_type": "code",
   "execution_count": null,
   "metadata": {},
   "outputs": [],
   "source": [
    "# as an interesting observation:\n",
    "compute_f_stat(low_level_frame)"
   ]
  },
  {
   "cell_type": "code",
   "execution_count": null,
   "metadata": {},
   "outputs": [],
   "source": [
    "between_condition_RDM(low_level_frame, 'low-level', 'euclidean')"
   ]
  },
  {
   "cell_type": "code",
   "execution_count": null,
   "metadata": {},
   "outputs": [],
   "source": [
    "between_condition_RDM(low_level_frame, 'low-level', 'cosine')"
   ]
  },
  {
   "cell_type": "code",
   "execution_count": null,
   "metadata": {},
   "outputs": [],
   "source": [
    "between_condition_RDM(low_level_frame, 'low-level', 'correlation')"
   ]
  },
  {
   "cell_type": "markdown",
   "metadata": {},
   "source": [
    "## Inferential statistics: differences in effort in photo- and text-cue\n",
    "\n",
    "#### Remember that we are conducting many t-tests here: apply bonferroni correction for the interpretation of significance levels"
   ]
  },
  {
   "cell_type": "code",
   "execution_count": null,
   "metadata": {},
   "outputs": [],
   "source": [
    "# compute paired t-tests comparing photo/text condition for each basic level variable\n",
    "for var in ['numStrokes', 'activeSketchTime', 'totalInk']:\n",
    "    photodata = data.metadata[data.metadata.condition == 'photo'][var].values\n",
    "    textdata = data.metadata[data.metadata.condition == 'text'][var].values\n",
    "    \n",
    "    print(f\"Is mean {var} in photo vs text condition significantly different?:\")\n",
    "    \n",
    "    # Are the variances approximately equal?\n",
    "    varstats = stats.levene(photodata, textdata)\n",
    "    print(\"Testing for equality of variance:\")\n",
    "    print(f\"Levene test stat: {varstats[0]}. p-value: {varstats[1]}\")\n",
    "    if stats.levene(photodata, textdata)[1] < 0.05:\n",
    "        welchtest = stats.ttest_ind(photodata, textdata, equal_var = False)\n",
    "        print('The assumption for equality of variance is violated! Using Welch\\'s t-test (two-sided), we get:')\n",
    "        print(f'Welch\\'s test stat: {welchtest[0]}. p-value: {welchtest[1]}\\n')\n",
    "    else:\n",
    "        ttest = stats.ttest_ind(photodata, textdata)\n",
    "        print('The assumption for equality of variance holds. Using student\\'s t-test (two-sided), we get:')\n",
    "        print(f'Student\\'s t-test: {ttest[0]}. p-value: {ttest[1]}\\n')"
   ]
  }
 ],
 "metadata": {
  "kernelspec": {
   "display_name": "Python 3",
   "language": "python",
   "name": "python3"
  },
  "language_info": {
   "codemirror_mode": {
    "name": "ipython",
    "version": 3
   },
   "file_extension": ".py",
   "mimetype": "text/x-python",
   "name": "python",
   "nbconvert_exporter": "python",
   "pygments_lexer": "ipython3",
   "version": "3.7.7"
  }
 },
 "nbformat": 4,
 "nbformat_minor": 2
}
