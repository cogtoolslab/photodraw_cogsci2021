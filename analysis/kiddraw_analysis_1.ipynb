{
 "cells": [
  {
   "cell_type": "markdown",
   "metadata": {},
   "source": [
    "### Run setup.ipynb to get set up"
   ]
  },
  {
   "cell_type": "code",
   "execution_count": null,
   "metadata": {},
   "outputs": [],
   "source": [
    "import os\n",
    "import re\n",
    "import sys\n",
    "import socket\n",
    "import requests\n",
    "import numpy as np\n",
    "import pandas as pd\n",
    "\n",
    "from PIL import Image\n",
    "from sklearn import preprocessing\n",
    "\n",
    "%matplotlib inline\n",
    "import matplotlib\n",
    "from matplotlib import pylab, mlab, pyplot, gridspec\n",
    "from IPython.core.pylabtools import figsize, getfigs\n",
    "plt = pyplot\n",
    "import seaborn as sns\n",
    "sns.set_context('talk')\n",
    "sns.set_style('white')\n",
    "\n",
    "from IPython.display import clear_output\n",
    "\n",
    "import utils\n",
    "from utils import generate_acc_probs, generate_acc_probs_2x2, generate_2x2_plots, perform_cross_validation, perform_cross_validation_twice, adjacent_plots, cat_cond_diffplots\n",
    "\n",
    "import warnings\n",
    "warnings.filterwarnings(\"ignore\", category=DeprecationWarning)\n",
    "warnings.filterwarnings(\"ignore\", category=FutureWarning)\n",
    "warnings.filterwarnings(\"ignore\", category=matplotlib.cbook.mplDeprecation)\n",
    "warnings.filterwarnings(\"ignore\", message=\"numpy.dtype size changed\")\n",
    "warnings.filterwarnings(\"ignore\", message=\"numpy.ufunc size changed\")"
   ]
  },
  {
   "cell_type": "markdown",
   "metadata": {},
   "source": [
    "### set up paths"
   ]
  },
  {
   "cell_type": "code",
   "execution_count": null,
   "metadata": {},
   "outputs": [],
   "source": [
    "# directory & file hierarchy\n",
    "proj_dir = os.path.abspath('..')\n",
    "analysis_dir = os.getcwd()\n",
    "results_dir = os.path.join(proj_dir,'results')\n",
    "plot_dir = os.path.join(results_dir,'plots')\n",
    "csv_dir = os.path.join(results_dir,'csv')\n",
    "if socket.gethostname() == 'nightingale':\n",
    "    feature_dir = os.path.abspath('/mnt/pentagon/photodraw/features/')\n",
    "else:\n",
    "    feature_dir = os.path.abspath(os.path.join(proj_dir, 'features', 'photodraw12'))\n",
    "\n",
    "meta_path = os.path.abspath(os.path.join(feature_dir, 'metadata_pixels.csv'))\n",
    "image_path = os.path.abspath(os.path.join(feature_dir, 'flattened_sketches_pixels.npy'))\n",
    "meta_path_fc6 = os.path.abspath(os.path.join(feature_dir, 'METADATA_sketch.csv'))\n",
    "image_path_fc6 = os.path.abspath(os.path.join(feature_dir, 'FEATURES_FC6_photodraw_sketch.npy'))\n",
    "\n",
    "# add helpers to python path\n",
    "if os.path.join(proj_dir,'utils') not in sys.path:\n",
    "    sys.path.append(os.path.join(proj_dir,'utils'))   \n",
    "\n",
    "def make_dir_if_not_exists(dir_name):   \n",
    "    if not os.path.exists(dir_name):\n",
    "        os.makedirs(dir_name)\n",
    "    return dir_name\n",
    "\n",
    "# create directories that don't already exist        \n",
    "result = [make_dir_if_not_exists(x) for x in [results_dir,plot_dir,csv_dir,feature_dir]]"
   ]
  },
  {
   "cell_type": "code",
   "execution_count": null,
   "metadata": {},
   "outputs": [],
   "source": [
    "# read in csv\n",
    "T = pd.read_csv(os.path.join(csv_dir,'photodraw_stroke_data.csv'))\n",
    "K = pd.read_csv(os.path.join(csv_dir,'photodraw_sketch_data.csv'))\n",
    "S = pd.read_csv(os.path.join(csv_dir,'photodraw_survey_data.csv'))\n",
    "M = pd.read_csv(meta_path)\n",
    "M = M[~M.gameID.isin(list(set(M.gameID.values) - set(K.gameID.values)))]\n",
    "F = np.load(image_path)\n",
    "F = F[M.index]\n",
    "M = M.reset_index(drop=True)\n",
    "M_fc6 = pd.read_csv(meta_path_fc6)\n",
    "F_fc6 = np.load(image_path_fc6)\n",
    "F_norm = F - F.mean(axis=0)\n",
    "F_fc6_norm = F_fc6 - F_fc6.mean(axis=0)\n",
    "F_scaled = preprocessing.scale(F)\n",
    "F_fc6_scaled = preprocessing.scale(F_fc6)\n",
    "\n",
    "classes = ['airplane', 'bike', 'bird', 'car', 'cat', 'chair', 'cup', 'hat', 'house', 'rabbit', 'tree', 'watch']"
   ]
  },
  {
   "cell_type": "code",
   "execution_count": null,
   "metadata": {},
   "outputs": [],
   "source": [
    "# remove images flagged as invalid or outliers\n",
    "def remove_invalid(frame):\n",
    "    return frame[frame.isInvalid == False]\n",
    "def remove_flagged(frame):\n",
    "    return frame[(frame.isOutlier == False) & (frame.isInvalid==False)]\n",
    "def remove_invalid_T(T):\n",
    "    thinghthing = K[K.isInvalid==True][['gameID','trialNum']].values\n",
    "    return T[(~T.gameID.isin(thinghthing[:][0])) & (~T.trialNum.isin(thinghthing[:][1]))]\n",
    "def remove_flagged_T(T):\n",
    "    thinghthing = K[(K.isOutlier==True) | (K.isInvalid==True)][['gameID','trialNum']].values\n",
    "    return T[(~T.gameID.isin(thinghthing[:][0])) & (~T.trialNum.isin(thinghthing[:][1]))]"
   ]
  },
  {
   "cell_type": "code",
   "execution_count": null,
   "metadata": {},
   "outputs": [],
   "source": [
    "# Being extra explicit now to avoid possible errors and headaches down the line\n",
    "K_remove_invalid = remove_invalid(K)\n",
    "K_remove_flagged = remove_flagged(K)\n",
    "\n",
    "T_remove_invalid = remove_invalid_T(T)\n",
    "T_remove_flagged = remove_flagged_T(T)\n",
    "\n",
    "F_norm_remove_invalid = F_norm[remove_invalid(M).index]\n",
    "F_norm_remove_flagged = F_norm[remove_flagged(M).index]\n",
    "F_fc6_norm_remove_invalid = F_fc6_norm[remove_invalid(K).fc6_feature_ind.values]\n",
    "F_fc6_norm_remove_flagged = F_fc6_norm[remove_flagged(K).fc6_feature_ind.values]\n",
    "\n",
    "M_remove_invalid = remove_invalid(M).reset_index(drop=True)\n",
    "M_remove_flagged = remove_flagged(M).reset_index(drop=True)"
   ]
  },
  {
   "cell_type": "markdown",
   "metadata": {},
   "source": [
    "## How many strokes are people using?"
   ]
  },
  {
   "cell_type": "code",
   "execution_count": null,
   "metadata": {},
   "outputs": [],
   "source": [
    "adjacent_plots(K_remove_invalid, K_remove_flagged, x='condition', y='numStrokes', plottype='violinplot')"
   ]
  },
  {
   "cell_type": "code",
   "execution_count": null,
   "metadata": {},
   "outputs": [],
   "source": [
    "adjacent_plots(K_remove_invalid, K_remove_flagged, x='condition', y='numStrokes', plottype='barplot')\n",
    "plt.savefig(os.path.abspath(os.path.join(plot_dir,'numStrokes_condition_barplot.png')), bbox_inces='tight')"
   ]
  },
  {
   "cell_type": "code",
   "execution_count": null,
   "metadata": {},
   "outputs": [],
   "source": [
    "adjacent_plots(K_remove_invalid, K_remove_flagged, x='category', y='numStrokes', plottype='violinplot')\n",
    "plt.savefig(os.path.abspath(os.path.join(plot_dir,'numStrokes_category_violinplot.png')), bbox_inces='tight')"
   ]
  },
  {
   "cell_type": "markdown",
   "metadata": {},
   "source": [
    "## How much time are people spending drawing?"
   ]
  },
  {
   "cell_type": "code",
   "execution_count": null,
   "metadata": {},
   "outputs": [],
   "source": [
    "adjacent_plots(K_remove_invalid, K_remove_flagged, x='condition', y='activeSketchTime', plottype='violinplot')"
   ]
  },
  {
   "cell_type": "code",
   "execution_count": null,
   "metadata": {},
   "outputs": [],
   "source": [
    "adjacent_plots(K_remove_invalid, K_remove_flagged, x='condition', y='activeSketchTime', plottype='barplot')\n",
    "plt.savefig(os.path.abspath(os.path.join(plot_dir,'activeSketchTime_condition_barplot.png')), bbox_inces='tight')"
   ]
  },
  {
   "cell_type": "code",
   "execution_count": null,
   "metadata": {},
   "outputs": [],
   "source": [
    "adjacent_plots(K_remove_invalid, K_remove_flagged, x = 'category', y = 'activeSketchTime', plottype = 'violinplot')\n",
    "plt.savefig(os.path.abspath(os.path.join(plot_dir,'activeSketchTime_category_violinplot.png')), bbox_inces='tight')"
   ]
  },
  {
   "cell_type": "markdown",
   "metadata": {},
   "source": [
    "## How much ink are people using?"
   ]
  },
  {
   "cell_type": "code",
   "execution_count": null,
   "metadata": {},
   "outputs": [],
   "source": [
    "adjacent_plots(K_remove_invalid, K_remove_flagged, x='condition', y='totalInk', plottype='violinplot')"
   ]
  },
  {
   "cell_type": "code",
   "execution_count": null,
   "metadata": {},
   "outputs": [],
   "source": [
    "adjacent_plots(K_remove_invalid, K_remove_flagged, x='condition', y='totalInk', plottype='barplot')\n",
    "plt.savefig(os.path.abspath(os.path.join(plot_dir,'totalInk_condition_barplot.png')), bbox_inces='tight')"
   ]
  },
  {
   "cell_type": "code",
   "execution_count": null,
   "metadata": {},
   "outputs": [],
   "source": [
    "adjacent_plots(K_remove_invalid, K_remove_flagged, x='category', y='totalInk', plottype='violinplot')\n",
    "plt.savefig(os.path.abspath(os.path.join(plot_dir,'totalInk_category_violinplot.png')), bbox_inces='tight')"
   ]
  },
  {
   "cell_type": "markdown",
   "metadata": {},
   "source": [
    "## How is sketch recognizability?"
   ]
  },
  {
   "cell_type": "markdown",
   "metadata": {},
   "source": [
    "#### Pixel-level classifier"
   ]
  },
  {
   "cell_type": "code",
   "execution_count": null,
   "metadata": {},
   "outputs": [],
   "source": [
    "adjacent_plots(K_remove_invalid, K_remove_flagged, x='condition', y='prob_true_predict_pixel', plottype='violinplot')"
   ]
  },
  {
   "cell_type": "code",
   "execution_count": null,
   "metadata": {},
   "outputs": [],
   "source": [
    "adjacent_plots(K_remove_invalid, K_remove_flagged, x='condition', y='prob_true_predict_pixel', plottype='barplot')\n",
    "plt.savefig(os.path.abspath(os.path.join(plot_dir,'pixelprobs_condition_barplot.png')), bbox_inces='tight')"
   ]
  },
  {
   "cell_type": "code",
   "execution_count": null,
   "metadata": {},
   "outputs": [],
   "source": [
    "adjacent_plots(K_remove_invalid, K_remove_flagged, x='category', y='prob_true_predict_pixel', plottype='violinplot')\n",
    "plt.savefig(os.path.abspath(os.path.join(plot_dir,'pixelprobs_category_violinplot.png')), bbox_inces='tight')"
   ]
  },
  {
   "cell_type": "markdown",
   "metadata": {},
   "source": [
    "#### fc6 feature-level classifier"
   ]
  },
  {
   "cell_type": "code",
   "execution_count": null,
   "metadata": {},
   "outputs": [],
   "source": [
    "adjacent_plots(K_remove_invalid, K_remove_flagged, x='condition', y='prob_true_predict_fc6', plottype='violinplot')"
   ]
  },
  {
   "cell_type": "code",
   "execution_count": null,
   "metadata": {},
   "outputs": [],
   "source": [
    "adjacent_plots(K_remove_invalid, K_remove_flagged, x='condition', y='prob_true_predict_fc6', plottype='barplot')\n",
    "plt.savefig(os.path.abspath(os.path.join(plot_dir,'fc6probs_condition_barplot.png')), bbox_inces='tight')"
   ]
  },
  {
   "cell_type": "code",
   "execution_count": null,
   "metadata": {},
   "outputs": [],
   "source": [
    "adjacent_plots(K_remove_invalid, K_remove_flagged, x='category', y='prob_true_predict_fc6', plottype='violinplot')\n",
    "plt.savefig(os.path.abspath(os.path.join(plot_dir,'fc6probs_category_violinplot.png')), bbox_inces='tight')"
   ]
  },
  {
   "cell_type": "markdown",
   "metadata": {},
   "source": [
    "## How long are the strokes?"
   ]
  },
  {
   "cell_type": "markdown",
   "metadata": {},
   "source": [
    "Note: Arc length has not had outliers removed since it is stroke level data; removing a single stroke does not make sense"
   ]
  },
  {
   "cell_type": "code",
   "execution_count": null,
   "metadata": {},
   "outputs": [],
   "source": [
    "adjacent_plots(T_remove_invalid, T_remove_flagged, x='condition', y='arcLength', plottype='violinplot')"
   ]
  },
  {
   "cell_type": "code",
   "execution_count": null,
   "metadata": {},
   "outputs": [],
   "source": [
    "adjacent_plots(T_remove_invalid, T_remove_flagged, x='condition', y='arcLength', plottype='barplot')\n",
    "plt.savefig(os.path.abspath(os.path.join(plot_dir,'arcLength_condition_barplot.png')), bbox_inces='tight')"
   ]
  },
  {
   "cell_type": "code",
   "execution_count": null,
   "metadata": {},
   "outputs": [],
   "source": [
    "adjacent_plots(T_remove_invalid, T_remove_flagged, x='category', y='arcLength', plottype='barplot')\n",
    "plt.savefig(os.path.abspath(os.path.join(plot_dir,'arcLength_category_barplot.png')), bbox_inces='tight')"
   ]
  },
  {
   "cell_type": "markdown",
   "metadata": {},
   "source": [
    "### Density of low-level features"
   ]
  },
  {
   "cell_type": "markdown",
   "metadata": {},
   "source": [
    "#### How are the number of strokes distributed, by condition?"
   ]
  },
  {
   "cell_type": "code",
   "execution_count": null,
   "metadata": {},
   "outputs": [],
   "source": [
    "adjacent_plots(K_remove_invalid, K_remove_flagged, x='numStrokes', y='density', plottype='distplot')"
   ]
  },
  {
   "cell_type": "code",
   "execution_count": null,
   "metadata": {},
   "outputs": [],
   "source": [
    "adjacent_plots(K_remove_invalid, K_remove_flagged, 'activeSketchTime', 'density', 'distplot')"
   ]
  },
  {
   "cell_type": "code",
   "execution_count": null,
   "metadata": {},
   "outputs": [],
   "source": [
    "adjacent_plots(K_remove_invalid, K_remove_flagged, 'totalInk', 'density', 'distplot')"
   ]
  },
  {
   "cell_type": "code",
   "execution_count": null,
   "metadata": {},
   "outputs": [],
   "source": [
    "adjacent_plots(T_remove_invalid, T_remove_flagged, 'arcLength', 'density', 'distplot')"
   ]
  },
  {
   "cell_type": "code",
   "execution_count": null,
   "metadata": {},
   "outputs": [],
   "source": [
    "adjacent_plots(K_remove_invalid, K_remove_flagged, 'prob_true_predict_pixel', 'density', 'distplot')"
   ]
  },
  {
   "cell_type": "code",
   "execution_count": null,
   "metadata": {},
   "outputs": [],
   "source": [
    "adjacent_plots(K_remove_invalid, K_remove_flagged, 'prob_true_predict_fc6', 'density', 'distplot')"
   ]
  },
  {
   "cell_type": "markdown",
   "metadata": {},
   "source": [
    "#### Is there any clear correlation of arc length stroke time between conditions?"
   ]
  },
  {
   "cell_type": "code",
   "execution_count": null,
   "metadata": {
    "scrolled": true
   },
   "outputs": [],
   "source": [
    "sns.scatterplot(x=T_remove_flagged['endStrokeTime']-T_remove_flagged['startStrokeTime'], y=T_remove_flagged['arcLength'], hue=T_remove_flagged['condition'])\n",
    "plt.xlabel('stroke time'), plt.title('Arc length vs time needed for each stroke');"
   ]
  },
  {
   "cell_type": "markdown",
   "metadata": {},
   "source": [
    "<br><br>\n",
    "## Within-participant analyses\n",
    "<br>"
   ]
  },
  {
   "cell_type": "code",
   "execution_count": null,
   "metadata": {},
   "outputs": [],
   "source": [
    "numStrokes_diff = adjacent_plots(K_remove_invalid, K_remove_flagged, plottype = 'regplot', x='numStrokes')"
   ]
  },
  {
   "cell_type": "code",
   "execution_count": null,
   "metadata": {
    "scrolled": false
   },
   "outputs": [],
   "source": [
    "cat_cond_diffplots(K_remove_invalid, K_remove_flagged, 'numStrokes', 'barplot')\n",
    "plt.savefig(os.path.abspath(os.path.join(plot_dir,'numStrokes_catcond_diffplot.png')), bbox_inces='tight')"
   ]
  },
  {
   "cell_type": "code",
   "execution_count": null,
   "metadata": {},
   "outputs": [],
   "source": [
    "activeSketchTime_diff = adjacent_plots(K_remove_invalid, K_remove_flagged, plottype = 'regplot', x='activeSketchTime')"
   ]
  },
  {
   "cell_type": "code",
   "execution_count": null,
   "metadata": {},
   "outputs": [],
   "source": [
    "cat_cond_diffplots(K_remove_invalid, K_remove_flagged, 'activeSketchTime', 'barplot')\n",
    "plt.savefig(os.path.abspath(os.path.join(plot_dir,'activeSketchTime_catcond_diffplot.png')), bbox_inces='tight')"
   ]
  },
  {
   "cell_type": "code",
   "execution_count": null,
   "metadata": {},
   "outputs": [],
   "source": [
    "totalInk_diff = adjacent_plots(K_remove_invalid, K_remove_flagged, plottype = 'regplot', x='totalInk')"
   ]
  },
  {
   "cell_type": "code",
   "execution_count": null,
   "metadata": {},
   "outputs": [],
   "source": [
    "cat_cond_diffplots(K_remove_invalid, K_remove_flagged, 'totalInk', 'barplot')\n",
    "plt.savefig(os.path.abspath(os.path.join(plot_dir,'totalInk_catcond_diffplot.png')), bbox_inces='tight')"
   ]
  },
  {
   "cell_type": "markdown",
   "metadata": {},
   "source": [
    "#### Data is too noisy to make any conclusions about arc length across participants"
   ]
  },
  {
   "cell_type": "code",
   "execution_count": null,
   "metadata": {},
   "outputs": [],
   "source": [
    "arcLength_diff = adjacent_plots(T_remove_invalid, T_remove_flagged, plottype = 'regplot', x='arcLength')"
   ]
  },
  {
   "cell_type": "code",
   "execution_count": null,
   "metadata": {
    "scrolled": false
   },
   "outputs": [],
   "source": [
    "cat_cond_diffplots(T_remove_invalid, T_remove_flagged, 'arcLength', 'barplot')\n",
    "plt.savefig(os.path.abspath(os.path.join(plot_dir,'arcLength_catcond_diffplot.png')), bbox_inces='tight')"
   ]
  },
  {
   "cell_type": "code",
   "execution_count": null,
   "metadata": {
    "scrolled": true
   },
   "outputs": [],
   "source": [
    "diffframe = pd.DataFrame([activeSketchTime_diff, numStrokes_diff, totalInk_diff, arcLength_diff]).T\n",
    "fig, ax = plt.subplots(1, 4, figsize=(12,3))\n",
    "sns.boxplot(diffframe[0], ax=ax[0]).set(xlabel='active sketch time')\n",
    "sns.boxplot(diffframe[1], ax=ax[1]).set(xlabel='number of strokes')\n",
    "sns.boxplot(diffframe[2], ax=ax[2]).set(xlabel='total ink')\n",
    "sns.boxplot(diffframe[3], ax=ax[3]).set(xlabel='arc length')\n",
    "plt.suptitle('Participant-level across-category difference of low-level features'),plt.tight_layout(rect=[0, 0.06, 1, 0.95]);\n",
    "fig.text(0.5, 0.03, 'photo-cue by text-cue difference', ha='center');\n",
    "plt.savefig(os.path.abspath(os.path.join(plot_dir,'low_level_diffplot.png')), bbox_inces='tight')"
   ]
  },
  {
   "cell_type": "markdown",
   "metadata": {},
   "source": [
    "### Category and condition level distribution plots for low level features (only preprocessed sketches)"
   ]
  },
  {
   "cell_type": "code",
   "execution_count": null,
   "metadata": {},
   "outputs": [],
   "source": [
    "g = sns.FacetGrid(K_remove_flagged, col=\"category\", hue='condition', col_wrap=4)\n",
    "g = (g.map(sns.distplot, \"activeSketchTime\", rug=False, hist=False).add_legend())\n",
    "plt.suptitle('Distribution of active sketch time by condition per category'), plt.tight_layout(rect=[0, 0.03, 1, 0.95]);"
   ]
  },
  {
   "cell_type": "code",
   "execution_count": null,
   "metadata": {},
   "outputs": [],
   "source": [
    "g = sns.FacetGrid(K_remove_flagged, col=\"category\", hue='condition', col_wrap=4)\n",
    "g = (g.map(sns.distplot, \"numStrokes\", rug=False, hist=False).add_legend())\n",
    "plt.suptitle('Distribution of strokes per sketch by condition per category'), plt.tight_layout(rect=[0, 0.03, 1, 0.95]);"
   ]
  },
  {
   "cell_type": "code",
   "execution_count": null,
   "metadata": {},
   "outputs": [],
   "source": [
    "g = sns.FacetGrid(remove_flagged_T(T), col=\"category\", hue='condition', col_wrap=4)\n",
    "g = (g.map(sns.distplot, \"arcLength\", rug=False, hist=False).add_legend())\n",
    "plt.suptitle('Distribution of stroke arc length by condition per category'), plt.tight_layout(rect=[0, 0.03, 1, 0.95]);"
   ]
  },
  {
   "cell_type": "code",
   "execution_count": null,
   "metadata": {},
   "outputs": [],
   "source": [
    "g = sns.FacetGrid(K_remove_flagged, col=\"category\", hue='condition', col_wrap=4)\n",
    "g = (g.map(sns.distplot, \"totalInk\",rug=False,hist=False)\n",
    "      .add_legend())\n",
    "plt.suptitle('Distribution of \"ink\" used per sketch by condition per category'), plt.tight_layout(rect=[0, 0.03, 1, 0.95]);"
   ]
  },
  {
   "cell_type": "markdown",
   "metadata": {},
   "source": [
    "<br>  <br><br><br><br><br>"
   ]
  },
  {
   "cell_type": "markdown",
   "metadata": {},
   "source": [
    "## Are there any effects of trial number (indicating fatigue)?"
   ]
  },
  {
   "cell_type": "code",
   "execution_count": null,
   "metadata": {},
   "outputs": [],
   "source": [
    "# trial number and numStrokes\n",
    "plt.figure(figsize=(14,3))\n",
    "plt.subplot(131)\n",
    "sns.barplot(x='trialNum', y='numStrokes', data=K_remove_flagged).set_ylabel('num strokes')\n",
    "plt.subplot(132)\n",
    "sns.barplot(x='trialNum', y='activeSketchTime', data=K_remove_flagged).set_ylabel('sketch time')\n",
    "plt.subplot(133)\n",
    "sns.barplot(x='trialNum', y='arcLength', data=T_remove_flagged).set_ylabel('arc length')\n",
    "plt.suptitle('num strokes, active sketch time, and arc length by trial number').set_position([.5, 1.05])\n",
    "plt.tight_layout(rect=[0, 0.03, 1, 0.95]);"
   ]
  },
  {
   "cell_type": "markdown",
   "metadata": {},
   "source": [
    "## Are there any effects of device type?"
   ]
  },
  {
   "cell_type": "code",
   "execution_count": null,
   "metadata": {},
   "outputs": [],
   "source": [
    "inputdevice_dict = dict(zip(S.gameID, S.inputDevice))\n",
    "K['inputDevice'] = K['gameID'].map(inputdevice_dict)\n",
    "T['inputDevice'] = T['gameID'].map(inputdevice_dict)\n",
    "plt.hist(K['inputDevice']), plt.ylabel('number of devices'), plt.title('Number of devices used in experiment');"
   ]
  },
  {
   "cell_type": "code",
   "execution_count": null,
   "metadata": {},
   "outputs": [],
   "source": [
    "inputdevice_dict = dict(zip(S.gameID,S.inputDevice))\n",
    "K['inputDevice'] = K['gameID'].map(inputdevice_dict)\n",
    "T['inputDevice'] = T['gameID'].map(inputdevice_dict)\n",
    "\n",
    "plt.figure(figsize=(15, 7))\n",
    "plt.subplot(231)\n",
    "sns.barplot(x='inputDevice', y='numStrokes', data=K) .set_ylabel('num strokes')\n",
    "plt.subplot(232)\n",
    "sns.barplot(x='inputDevice', y='activeSketchTime', data=K).set_ylabel('sketch time')\n",
    "plt.subplot(233)\n",
    "sns.barplot(x='inputDevice', y='arcLength', data=T).set_ylabel('arc length')\n",
    "plt.suptitle('num strokes, active sketch time, and arc length by input device')\n",
    "plt.tight_layout(rect=[0, 0.03, 1, 0.95])"
   ]
  },
  {
   "cell_type": "markdown",
   "metadata": {},
   "source": [
    "### Category-level evidence quantifying  \n",
    "Train a 12-way classifier to quantify how much category evidence is in each sketch"
   ]
  },
  {
   "cell_type": "code",
   "execution_count": null,
   "metadata": {
    "scrolled": true
   },
   "outputs": [],
   "source": [
    "### note: may be obsolete now that M is not used\n",
    "\n",
    "# Take in pngData for one image, checks if the converted pngData array matches a feature vector F and metadata M\n",
    "def auditor(pngData, i, F, M): # where i is the row of the observation in pngData\n",
    "    rgbarr = utils.pngToArray(pngData)\n",
    "    \n",
    "    # do all pixels of the i'th observation match up with pixels of the i'th observation of K?\n",
    "    assert np.count_nonzero((rgbarr) == F[i]) == 150528 \n",
    "    \n",
    "    # do the rows K match up with the rows of M?\n",
    "    assert K.iloc[i]['_id'] == M['_id'][i]\n",
    "    \n",
    "    # does M's corresponding drawing correspond to F's corresponding drawing? (it better) \n",
    "    assert np.count_nonzero(utils.pngToArray(str(K[K['_id'] == M['_id'][i]]['pngData'].values)) == F[i]) == 150528\n",
    "    pass\n",
    "\n",
    "# if our feature and metadata match up this should return True\n",
    "all(element is None for element in [auditor(K['pngData'][i], i, F, M) for i in range(len(F))])"
   ]
  },
  {
   "cell_type": "markdown",
   "metadata": {},
   "source": [
    "### Softmax classifiers"
   ]
  },
  {
   "cell_type": "code",
   "execution_count": null,
   "metadata": {},
   "outputs": [],
   "source": [
    "# Cross-validation on a 12-way softmax classifier to get baseline accuracies and to visualize data \n",
    "# What is the average accuracy from 10-fold cross vaidation?\n",
    "cv_results = perform_cross_validation(features=F_norm_remove_invalid, \n",
    "                                      labels=K_remove_invalid['category'],\n",
    "                                      num_folds=10,\n",
    "                                      input_type='sketch pixels',\n",
    "                                      prediction_type='category',\n",
    "                                      output=True)"
   ]
  },
  {
   "cell_type": "code",
   "execution_count": null,
   "metadata": {},
   "outputs": [],
   "source": [
    "# mean coefficients across the cross validated regressions\n",
    "coefs = np.array([cv_results['estimator'][i].coef_.reshape(12,224,224,3) for i in range(10)]).mean(axis=0)\n",
    "coefs_scaled = ((coefs.squeeze() - coefs.min()) / (coefs.max() - coefs.min()) * 255.0).astype(int)\n",
    "\n",
    "for index,weights in enumerate(coefs_scaled):\n",
    "    plt.subplot(2, 6, index + 1)\n",
    "    plt.imshow(weights)\n",
    "    plt.axis('off')\n",
    "    plt.title(classes[index])"
   ]
  },
  {
   "cell_type": "code",
   "execution_count": null,
   "metadata": {},
   "outputs": [],
   "source": [
    "cv_results_photo, cv_results_text = perform_cross_validation_twice(features=F_norm_remove_invalid,\n",
    "                                                                   metadata=M_remove_invalid,\n",
    "                                                                   labels=M_remove_invalid['cat_codes'],\n",
    "                                                                   num_folds=10,\n",
    "                                                                   input_type='sketch pixel data',\n",
    "                                                                   prediction_type='category',\n",
    "                                                                   output=True)"
   ]
  },
  {
   "cell_type": "code",
   "execution_count": null,
   "metadata": {},
   "outputs": [],
   "source": [
    "# get stimuli into 36x224x224x3 array\n",
    "baseurl = 'https://photodraw.s3.amazonaws.com/___.png'\n",
    "urls = []\n",
    "for name in classes:\n",
    "    for i in range(1,4):\n",
    "        urls.append(baseurl.replace('___', name + \"_\" + str(i)))\n",
    "stims = []\n",
    "for url in urls: \n",
    "    response = requests.get(url, stream=True)\n",
    "    stims.append(np.array(Image.open(response.raw).resize((224,224))))\n",
    "stims = np.array(stims, dtype='double')\n",
    "\n",
    "# extra way to get category labels\n",
    "category2score = dict(zip(classes, list(range(12))))\n",
    "photocue_stim_classes = [re.findall(r'\\w+',url)[5][:-2] for url in urls]\n",
    "photocue_stim_classes = np.array([category2score[i] for i in photocue_stim_classes])\n",
    "\n",
    "# convert to 36x224*224*3 array\n",
    "photocue_stims = np.array([stims[i].flatten() for i in range(len(stims))])\n",
    "photocue_stims = np.asarray(photocue_stims, dtype='double')\n",
    "# normalize the data: subtract mean image\n",
    "mean_image = np.mean(photocue_stims, axis = 0)\n",
    "photocue_stims -= mean_image\n",
    "\n",
    "photo_preds=np.mean([cv_results_photo['estimator'][i].score(photocue_stims, photocue_stim_classes) for i in range(10)])\n",
    "text_preds=np.mean([cv_results_text['estimator'][i].score(photocue_stims, photocue_stim_classes) for i in range(10)])\n",
    "print(f'When predicting on the photo-cue stimuli, the test accuracy of a logistic regression trained on photo-cue data is {round(photo_preds,3)}')\n",
    "print(f'When predicting on the photo-cue stimuli, the test accuracy of a logistic regression trained on text-cue  data is {round(text_preds,3)}')"
   ]
  },
  {
   "cell_type": "code",
   "execution_count": null,
   "metadata": {},
   "outputs": [],
   "source": [
    "# mean coefficients across the cross validated regressions -- photo-cue classifier\n",
    "coefs = np.array([cv_results_photo['estimator'][i].coef_.reshape(12,224,224,3) for i in range(10)]).mean(axis=0)\n",
    "coefs_scaled = ((coefs.squeeze() - coefs.min()) / (coefs.max() - coefs.min()) * 255.0).astype(int)\n",
    "\n",
    "for index,weights in enumerate(coefs_scaled):\n",
    "    plt.subplot(2, 6, index + 1)\n",
    "    plt.imshow(weights)\n",
    "    plt.axis('off')\n",
    "    plt.title(classes[index])"
   ]
  },
  {
   "cell_type": "code",
   "execution_count": null,
   "metadata": {},
   "outputs": [],
   "source": [
    "# mean coefficients across the cross validated regressions -- text-cue classifier\n",
    "coefs = np.array([cv_results_text['estimator'][i].coef_.reshape(12,224,224,3) for i in range(10)]).mean(axis=0)\n",
    "coefs_scaled = ((coefs.squeeze() - coefs.min()) / (coefs.max() - coefs.min()) * 255.0).astype(int)\n",
    "\n",
    "for index,weights in enumerate(coefs_scaled):\n",
    "    plt.subplot(2, 6, index + 1)\n",
    "    plt.imshow(weights)\n",
    "    plt.axis('off')\n",
    "    plt.title(classes[index])"
   ]
  },
  {
   "cell_type": "code",
   "execution_count": null,
   "metadata": {},
   "outputs": [],
   "source": [
    "# generate prediction probabilities and confusion matrices on photo/text-trained/tested classifiers\n",
    "class_probs_2x2_pixel, acc_scores_2x2_pixel = generate_acc_probs_2x2(F_norm_remove_invalid, \n",
    "                                                                     M_remove_invalid, \n",
    "                                                                     num_splits=5, \n",
    "                                                                     num_repeats=5)"
   ]
  },
  {
   "cell_type": "code",
   "execution_count": null,
   "metadata": {},
   "outputs": [],
   "source": [
    "generate_2x2_plots(class_probs_2x2_pixel, 'pixel-level', 'probabilities')"
   ]
  },
  {
   "cell_type": "code",
   "execution_count": null,
   "metadata": {},
   "outputs": [],
   "source": [
    "generate_2x2_plots(acc_scores_2x2_pixel, 'pixel-level', 'confusion matrix')"
   ]
  },
  {
   "cell_type": "markdown",
   "metadata": {},
   "source": [
    "### fc6 feature-level classification"
   ]
  },
  {
   "cell_type": "code",
   "execution_count": null,
   "metadata": {},
   "outputs": [],
   "source": [
    "perform_cross_validation(features=F_fc6_norm_remove_invalid, \n",
    "                         labels=K_remove_invalid.sort_values(by='fc6_feature_ind').reset_index(drop=True)['category'],\n",
    "                         num_folds=10,\n",
    "                         input_type='fc6 feature vectors',\n",
    "                         prediction_type='category',\n",
    "                         output=False)"
   ]
  },
  {
   "cell_type": "code",
   "execution_count": null,
   "metadata": {},
   "outputs": [],
   "source": [
    "# generate prediction probabilities and confusion matrices of fc6 layer features\n",
    "class_probs_fc6, acc_scores_fc6 = generate_acc_probs(features=F_fc6_norm_remove_invalid, \n",
    "                                                     metadata=K_remove_invalid,\n",
    "                                                     num_splits=5,\n",
    "                                                     num_repeats=2)"
   ]
  },
  {
   "cell_type": "code",
   "execution_count": null,
   "metadata": {},
   "outputs": [],
   "source": [
    "plt.figure(figsize=(12,10))\n",
    "sns.heatmap(class_probs_fc6), plt.xlabel('predicted class probabilities'), plt.ylabel('correct category')\n",
    "plt.title('Category prediction probabilities per category label (VGG19 layers)');"
   ]
  },
  {
   "cell_type": "code",
   "execution_count": null,
   "metadata": {},
   "outputs": [],
   "source": [
    "plt.figure(figsize=(12,10))\n",
    "sns.heatmap(acc_scores_fc6), plt.title('Confusion matrix for category predictions');\n",
    "plt.xlabel('Prediction'), plt.ylabel('True label');"
   ]
  },
  {
   "cell_type": "code",
   "execution_count": null,
   "metadata": {
    "scrolled": true
   },
   "outputs": [],
   "source": [
    "perform_cross_validation_twice(features=F_fc6_norm_remove_invalid,\n",
    "                               metadata=K_remove_invalid.sort_values(by='fc6_feature_ind').reset_index(drop=True),\n",
    "                               labels=K_remove_invalid.sort_values(by='fc6_feature_ind').reset_index(drop=True)['category'],\n",
    "                               num_folds=10,\n",
    "                               input_type='fc6 feature vectors',\n",
    "                               prediction_type='category',\n",
    "                               output=False)"
   ]
  },
  {
   "cell_type": "code",
   "execution_count": null,
   "metadata": {},
   "outputs": [],
   "source": [
    "# generate prediction probabilities and confusion matrices on photo/text-trained/tested classifiers using fc6 features\n",
    "class_probs_2x2_fc6, acc_scores_2x2_fc6 = generate_acc_probs_2x2(features=F_fc6_norm_remove_invalid, \n",
    "                                                                 metadata=K_remove_invalid,\n",
    "                                                                 num_splits=5,\n",
    "                                                                 num_repeats=5)"
   ]
  },
  {
   "cell_type": "code",
   "execution_count": null,
   "metadata": {},
   "outputs": [],
   "source": [
    "generate_2x2_plots(class_probs_2x2_fc6, 'VGG-19', 'probabilities')"
   ]
  },
  {
   "cell_type": "code",
   "execution_count": null,
   "metadata": {},
   "outputs": [],
   "source": [
    "generate_2x2_plots(acc_scores_2x2_fc6, 'VGG-19', 'confusion matrix')"
   ]
  },
  {
   "cell_type": "markdown",
   "metadata": {},
   "source": [
    "### Can the pixel-level data classify things other than category?"
   ]
  },
  {
   "cell_type": "code",
   "execution_count": null,
   "metadata": {},
   "outputs": [],
   "source": [
    "perform_cross_validation(features=F_norm_remove_invalid, \n",
    "                         labels=M_remove_invalid['cond_codes'],\n",
    "                         num_folds=10,\n",
    "                         input_type='sketch pixel data',\n",
    "                         prediction_type='condition',\n",
    "                         output=False)"
   ]
  },
  {
   "cell_type": "code",
   "execution_count": null,
   "metadata": {},
   "outputs": [],
   "source": [
    "perform_cross_validation(features=F_norm_remove_invalid, \n",
    "                         labels=M_remove_invalid['cat_id_codes'],\n",
    "                         num_folds=3,\n",
    "                         input_type='sketch pixel data',\n",
    "                         prediction_type='category-photoid pairs (including text)',\n",
    "                         output=False)"
   ]
  },
  {
   "cell_type": "code",
   "execution_count": null,
   "metadata": {},
   "outputs": [],
   "source": [
    "perform_cross_validation(features=F_norm_remove_invalid, \n",
    "                         labels=M_remove_invalid['cat_cond_codes'],\n",
    "                         num_folds=5,\n",
    "                         input_type='sketch pixel data',\n",
    "                         prediction_type='category-condition pairs',\n",
    "                         output=False)"
   ]
  },
  {
   "cell_type": "code",
   "execution_count": null,
   "metadata": {},
   "outputs": [],
   "source": [
    "perform_cross_validation(features=F_norm_remove_invalid, \n",
    "                         labels=M_remove_invalid['photoid_codes'],\n",
    "                         num_folds=5,\n",
    "                         input_type='sketch pixel data',\n",
    "                         prediction_type='photo-ids',\n",
    "                         output=False)"
   ]
  },
  {
   "cell_type": "markdown",
   "metadata": {},
   "source": [
    "### Can other numStrokes, activeSketchTime, and totalInk predict category and condition?"
   ]
  },
  {
   "cell_type": "code",
   "execution_count": null,
   "metadata": {},
   "outputs": [],
   "source": [
    "features = K_remove_flagged[['numStrokes','activeSketchTime','totalInk']]\n",
    "features_norm = features - features.mean(axis=0)\n",
    "\n",
    "metadata_cat = K_remove_flagged['category'].astype('category').cat.codes.values\n",
    "metadata_cond = K_remove_flagged['condition'].astype('category').cat.codes.values"
   ]
  },
  {
   "cell_type": "code",
   "execution_count": null,
   "metadata": {},
   "outputs": [],
   "source": [
    "perform_cross_validation(features=features_norm, \n",
    "                         labels=metadata_cat,\n",
    "                         num_folds=10,\n",
    "                         input_type='number of strokes, active sketch time, and total ink',\n",
    "                         prediction_type='category',\n",
    "                         output=False)"
   ]
  },
  {
   "cell_type": "code",
   "execution_count": null,
   "metadata": {},
   "outputs": [],
   "source": [
    "perform_cross_validation(features=features_norm, \n",
    "                         labels=metadata_cond,\n",
    "                         num_folds=10,\n",
    "                         input_type='number of strokes, active sketch time, and total ink',\n",
    "                         prediction_type='condition',\n",
    "                         output=False)"
   ]
  },
  {
   "cell_type": "markdown",
   "metadata": {},
   "source": [
    "### Category-photoid prediction probabilities and confusion matrices"
   ]
  },
  {
   "cell_type": "code",
   "execution_count": null,
   "metadata": {},
   "outputs": [],
   "source": [
    "M_photo = M_remove_invalid[M_remove_invalid.condition == 'photo']\n",
    "F_norm_photo = F_norm_remove_invalid[M_photo.index]\n",
    "M_photo = M_photo.reset_index(drop=True)\n",
    "cat_ids_photo = ['cat_id_codes', 'category_id_pair', [cat + '_' + str(i) for cat in classes for i in range(1,4)]]\n",
    "\n",
    "cat_photoid_probs, cat_photoid_accs = generate_acc_probs(features=F_norm_photo,\n",
    "                                                         metadata=M_photo,\n",
    "                                                         num_splits=2,\n",
    "                                                         num_repeats=1,\n",
    "                                                         alt_labels=cat_ids_photo)"
   ]
  },
  {
   "cell_type": "code",
   "execution_count": null,
   "metadata": {},
   "outputs": [],
   "source": [
    "plt.figure(figsize=(17,14))\n",
    "sns.heatmap(cat_photoid_probs), plt.xlabel('predicted class probabilities'), plt.ylabel('correct category')\n",
    "plt.title('Category-photoid prediction probabilities per category-photoid label (pixel-level)');"
   ]
  },
  {
   "cell_type": "code",
   "execution_count": null,
   "metadata": {},
   "outputs": [],
   "source": [
    "plt.figure(figsize=(17,14))\n",
    "sns.heatmap(cat_photoid_accs), plt.title('Confusion matrix for category predictions (pixel-level)');\n",
    "plt.xlabel('Prediction'), plt.ylabel('True label');"
   ]
  },
  {
   "cell_type": "code",
   "execution_count": null,
   "metadata": {},
   "outputs": [],
   "source": [
    "M_fc6_photo = K_remove_invalid[K_remove_invalid.condition == 'photo']\n",
    "F_fc6_norm_photo = F_fc6_norm_remove_invalid[M_fc6_photo.index]\n",
    "M_fc6_photo = K_remove_invalid.reset_index(drop=True)\n",
    "\n",
    "cat_photoid_probs_fc6, cat_photoid_accs_fc6 = generate_acc_probs(features=F_fc6_norm_photo,\n",
    "                                                         metadata=M_fc6_photo,\n",
    "                                                         num_splits=3,\n",
    "                                                         num_repeats=3,\n",
    "                                                         alt_labels=cat_ids_photo)"
   ]
  },
  {
   "cell_type": "code",
   "execution_count": null,
   "metadata": {},
   "outputs": [],
   "source": [
    "plt.figure(figsize=(17,14))\n",
    "sns.heatmap(cat_photoid_probs_fc6), plt.xlabel('predicted class probabilities'), plt.ylabel('correct category')\n",
    "plt.title('Category-photoid prediction probabilities per category-photoid label (VGG-19)');"
   ]
  },
  {
   "cell_type": "code",
   "execution_count": null,
   "metadata": {},
   "outputs": [],
   "source": [
    "plt.figure(figsize=(17,14))\n",
    "sns.heatmap(cat_photoid_accs_fc6), plt.title('Confusion matrix for category predictions (VGG-19)');\n",
    "plt.xlabel('Prediction'), plt.ylabel('True label');"
   ]
  },
  {
   "cell_type": "markdown",
   "metadata": {},
   "source": [
    "<br><br><br><br><br><br><br><br><br><br><br><br><br><br><br><br>"
   ]
  }
 ],
 "metadata": {
  "environment": {
   "name": "common-cpu.m48",
   "type": "gcloud",
   "uri": "gcr.io/deeplearning-platform-release/base-cpu:m48"
  },
  "kernelspec": {
   "display_name": "Python 3",
   "language": "python",
   "name": "python3"
  },
  "language_info": {
   "codemirror_mode": {
    "name": "ipython",
    "version": 3
   },
   "file_extension": ".py",
   "mimetype": "text/x-python",
   "name": "python",
   "nbconvert_exporter": "python",
   "pygments_lexer": "ipython3",
   "version": "3.7.7"
  }
 },
 "nbformat": 4,
 "nbformat_minor": 4
}
